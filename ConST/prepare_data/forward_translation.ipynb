{
 "cells": [
  {
   "cell_type": "code",
   "execution_count": 1,
   "metadata": {},
   "outputs": [],
   "source": [
    "import os\n",
    "\n",
    "from ConST.prepare_data.data_utils import load_df_from_tsv, save_df_to_tsv"
   ]
  },
  {
   "cell_type": "code",
   "execution_count": 10,
   "metadata": {},
   "outputs": [],
   "source": [
    "data_root = '/mnt/data/siqiouyang/datasets/must-c-v1.0'\n",
    "# filenames = ['train-0h_asr', 'train-1h_asr_100h', 'train-1h_asr_10h']\n",
    "# new_filenames = ['train_pseudo_st_370h', 'train_pseudo_st_100h', 'train_pseudo_st_10h']\n",
    "filenames = ['train-1h_asr_10h']\n",
    "new_filenames = ['train_pseudo_0.1mt_st_10h']"
   ]
  },
  {
   "cell_type": "code",
   "execution_count": 11,
   "metadata": {},
   "outputs": [],
   "source": [
    "os.makedirs('generations', exist_ok=True)"
   ]
  },
  {
   "cell_type": "markdown",
   "metadata": {},
   "source": [
    "```bash\n",
    "CUDA_VISIBLE_DEVICES=1 fairseq-generate /mnt/data/siqiouyang/datasets/must-c-v1.0/ --gen-subset train-1h_asr_10h --task speech_to_text --prefix-size 1 \\\n",
    "--max-tokens 4000000 --max-source-positions 4000000 --beam 10 --lenpen 0.6 --scoring sacrebleu \\\n",
    "--config-yaml config_st_de.yaml  --path /mnt/data/siqiouyang/runs/ConST/pretrained/checkpoint.0.1wmt.best_bleu_avg.pt \\\n",
    "--results-path /home/siqiouyang/work/projects/ConST/ConST/prepare_data/generations/train-1h_asr_10h_0.1mt \\\n",
    "--mt-mode \n",
    "```"
   ]
  },
  {
   "cell_type": "code",
   "execution_count": 5,
   "metadata": {},
   "outputs": [],
   "source": [
    "subset = 0"
   ]
  },
  {
   "cell_type": "code",
   "execution_count": 6,
   "metadata": {},
   "outputs": [],
   "source": [
    "fn = filenames[subset]\n",
    "df = load_df_from_tsv(os.path.join(data_root, fn + '.tsv'))"
   ]
  },
  {
   "cell_type": "code",
   "execution_count": 12,
   "metadata": {},
   "outputs": [],
   "source": [
    "# gen_fn = 'generations/{0}/generate-{0}.txt'.format(fn)\n",
    "gen_fn = 'generations/train-1h_asr_10h_0.1mt/generate-train-1h_asr_10h.txt'"
   ]
  },
  {
   "cell_type": "code",
   "execution_count": 13,
   "metadata": {},
   "outputs": [],
   "source": [
    "def extract(path):\n",
    "    gens = {}\n",
    "    with open(path, 'r') as r:\n",
    "        for line in r.readlines():\n",
    "            line = line.strip()\n",
    "            parts = line.split('\\t')\n",
    "            if line.startswith('D-'):\n",
    "                idx = int(line[2:line.find('\\t')])\n",
    "                gens[idx] = parts[2]\n",
    "    return gens"
   ]
  },
  {
   "cell_type": "code",
   "execution_count": 14,
   "metadata": {},
   "outputs": [],
   "source": [
    "gens = extract(gen_fn)"
   ]
  },
  {
   "cell_type": "code",
   "execution_count": 15,
   "metadata": {},
   "outputs": [],
   "source": [
    "_, pseudo_labels = list(zip(*sorted(gens.items())))"
   ]
  },
  {
   "cell_type": "code",
   "execution_count": 16,
   "metadata": {},
   "outputs": [],
   "source": [
    "new_df = df.copy()\n",
    "new_df['tgt_text'] = pseudo_labels"
   ]
  },
  {
   "cell_type": "code",
   "execution_count": 17,
   "metadata": {},
   "outputs": [],
   "source": [
    "new_fn = new_filenames[subset]\n",
    "save_df_to_tsv(new_df, os.path.join(data_root, new_fn + '.tsv'))"
   ]
  },
  {
   "cell_type": "code",
   "execution_count": null,
   "metadata": {},
   "outputs": [],
   "source": []
  }
 ],
 "metadata": {
  "kernelspec": {
   "display_name": "Python 3.8.13 ('ConST')",
   "language": "python",
   "name": "python3"
  },
  "language_info": {
   "codemirror_mode": {
    "name": "ipython",
    "version": 3
   },
   "file_extension": ".py",
   "mimetype": "text/x-python",
   "name": "python",
   "nbconvert_exporter": "python",
   "pygments_lexer": "ipython3",
   "version": "3.8.13"
  },
  "orig_nbformat": 4,
  "vscode": {
   "interpreter": {
    "hash": "b19e2bae1ea557e2a235ed68e1ca6fc95eb26397d1b9313344955976d03228b1"
   }
  }
 },
 "nbformat": 4,
 "nbformat_minor": 2
}
