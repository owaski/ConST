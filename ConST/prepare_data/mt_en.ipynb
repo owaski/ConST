{
 "cells": [
  {
   "cell_type": "code",
   "execution_count": 1,
   "metadata": {},
   "outputs": [],
   "source": [
    "import os\n",
    "import re\n",
    "import random\n",
    "\n",
    "import pandas as pd\n",
    "import torchaudio\n",
    "from tqdm import tqdm\n",
    "import csv"
   ]
  },
  {
   "cell_type": "code",
   "execution_count": 2,
   "metadata": {},
   "outputs": [],
   "source": [
    "def load_df_from_tsv(path: str, enc='utf-8'):\n",
    "    return pd.read_csv(\n",
    "        path,\n",
    "        sep=\"\\t\",\n",
    "        header=0,\n",
    "        encoding=enc,\n",
    "        escapechar=\"\\\\\",\n",
    "        quoting=csv.QUOTE_NONE,\n",
    "        na_filter=False,\n",
    "    )\n",
    "\n",
    "\n",
    "def save_df_to_tsv(dataframe, path):\n",
    "    dataframe.to_csv(\n",
    "        path,\n",
    "        sep=\"\\t\",\n",
    "        header=True,\n",
    "        index=False,\n",
    "        encoding=\"utf-8\",\n",
    "        escapechar=\"\\\\\",\n",
    "        quoting=csv.QUOTE_NONE,\n",
    "    )"
   ]
  },
  {
   "cell_type": "markdown",
   "metadata": {},
   "source": [
    "# ASR from IWSLT"
   ]
  },
  {
   "cell_type": "code",
   "execution_count": 3,
   "metadata": {},
   "outputs": [],
   "source": [
    "root = '/mnt/data/siqiouyang/datasets/IWSLT_MT_EN/MT_EN'"
   ]
  },
  {
   "cell_type": "code",
   "execution_count": 4,
   "metadata": {},
   "outputs": [],
   "source": [
    "asr_audio_root = os.path.join(root, 'mt_only', 'Audio')\n",
    "asr_root = os.path.join(root, 'mt_only', 'Transcription', 'Malti')\n",
    "new_wav_root = '/mnt/data/siqiouyang/datasets/must-c-v1.0/mt-en/data/asr/wav'\n",
    "mustc_root = '/mnt/data/siqiouyang/datasets/must-c-v1.0/'"
   ]
  },
  {
   "cell_type": "code",
   "execution_count": 5,
   "metadata": {},
   "outputs": [],
   "source": [
    "def detect_annotator(items):\n",
    "    common_suffix = \"\"\n",
    "    for item in items:\n",
    "        # print(common_suffix, item)\n",
    "        if 'annotator' in item.lower() or 'sp' in item.lower()[-3:] or 'speaker' in item.lower():\n",
    "            if common_suffix == \"\":\n",
    "                common_suffix = item\n",
    "            else:\n",
    "                for j in range(min(len(common_suffix), len(item))):\n",
    "                    if common_suffix[len(common_suffix) - j - 1] != item[len(item) - j - 1] and not common_suffix[len(common_suffix) - j - 1].isdigit():\n",
    "                        common_suffix = common_suffix[len(common_suffix) - j:]\n",
    "                        break\n",
    "    return common_suffix"
   ]
  },
  {
   "cell_type": "code",
   "execution_count": 6,
   "metadata": {},
   "outputs": [],
   "source": [
    "def detect_machine(items):\n",
    "    common_suffix = \"\"\n",
    "    for item in items:\n",
    "        if 'Machine' in item:\n",
    "            if common_suffix == \"\":\n",
    "                common_suffix = item\n",
    "            else:\n",
    "                for j in range(min(len(common_suffix), len(item))):\n",
    "                    if common_suffix[len(common_suffix) - j - 1] != item[len(item) - j - 1] and not common_suffix[len(common_suffix) - j - 1].isdigit():\n",
    "                        common_suffix = common_suffix[len(common_suffix) - j:]\n",
    "                        break\n",
    "    return common_suffix"
   ]
  },
  {
   "cell_type": "code",
   "execution_count": 7,
   "metadata": {},
   "outputs": [],
   "source": [
    "def equal(s1, s2):\n",
    "    if len(s1) != len(s2):\n",
    "        return False\n",
    "    for u, v in zip(s1, s2):\n",
    "        if u != v and not u.isdigit():\n",
    "            return False\n",
    "    return True"
   ]
  },
  {
   "cell_type": "code",
   "execution_count": 33,
   "metadata": {},
   "outputs": [],
   "source": [
    "def make_df(quads, wav_id, speaker_id, wav, rate):\n",
    "    df = pd.DataFrame(columns=['id', 'audio', 'n_frames', 'src_text', 'speaker', 'src_lang'])\n",
    "\n",
    "    id = []\n",
    "    audio = []\n",
    "    n_frames = []\n",
    "    src_text = []\n",
    "    speaker = []\n",
    "    src_lang = []\n",
    "\n",
    "    for idx, q in enumerate(quads):\n",
    "        duration = q[1] - q[0]\n",
    "        text = re.sub('<.*>', ' ', q[3]).strip()\n",
    "        if duration > 0.5 and text != \"\" and duration < 30 and '/' not in text:\n",
    "            subwav_id = wav_id + '_spk_{}_{}'.format(speaker_id, idx)\n",
    "            wav_s, wav_e = int(q[0] * rate), int(q[1] * rate)\n",
    "\n",
    "            # if 'dia_task_pics02_13f_10m_spk_0' in subwav_id:\n",
    "            #     print(subwav_id, wav_s, wav_e, len(wav))\n",
    "\n",
    "            # torchaudio.save(os.path.join(new_wav_root, subwav_id + '.wav'), wav[wav_s : wav_e].unsqueeze(0), rate)\n",
    "            torchaudio.save(os.path.join('mt_en', subwav_id + '.wav'), wav[wav_s : wav_e].unsqueeze(0), rate)\n",
    "            \n",
    "            id.append(subwav_id)\n",
    "            audio.append('mt-en/data/asr/wav/{}.wav'.format(subwav_id))\n",
    "            n_frames.append(wav_e - wav_s)\n",
    "            src_text.append(text)\n",
    "            speaker.append(q[2])\n",
    "            src_lang.append('mt')\n",
    "\n",
    "            print(subwav_id, q[0], q[1], text, sep='\\t')\n",
    "\n",
    "    df['id'] = id\n",
    "    df['audio'] = audio\n",
    "    df['n_frames'] = n_frames\n",
    "    df['src_text'] = src_text\n",
    "    df['speaker'] = speaker\n",
    "    df['src_lang'] = src_lang\n",
    "    return df"
   ]
  },
  {
   "cell_type": "code",
   "execution_count": 34,
   "metadata": {},
   "outputs": [],
   "source": [
    "all_df = None"
   ]
  },
  {
   "cell_type": "code",
   "execution_count": 43,
   "metadata": {},
   "outputs": [
    {
     "name": "stdout",
     "output_type": "stream",
     "text": [
      "dia_spont01_13m_14m.tsv\n",
      "{'Machine'}\n",
      "dia_spont01_13m_14m_spk_0_2\t1.68\t6.899788981043842\tBaż bażikament\n",
      "dia_spont01_13m_14m_spk_0_3\t6.899788981043842\t8.64\tt\n",
      "dia_spont01_13m_14m_spk_0_7\t15.88\t18.54\tu u\n",
      "dia_spont01_13m_14m_spk_0_8\t18.54\t20.46\tu speċi fil-bidu ma tantx konna ħbieb speċjalment ħabba\n",
      "dia_spont01_13m_14m_spk_0_9\t20.46\t21.94\t'a\n",
      "dia_spont01_13m_14m_spk_0_10\t21.94\t27.3\tl-aħmar u l-b ... l-aħdar\n",
      "dia_spont01_13m_14m_spk_0_12\t28.84\t30.5\tee ee\n",
      "dia_spont01_13m_14m_spk_0_13\t30.5\t32.34\tkienet bla sens\n",
      "dia_spont01_13m_14m_spk_0_15\t44.18\t46.42\tuu\n",
      "dia_spont01_13m_14m_spk_0_17\t57.2\t58.48\tnofshom\n",
      "dia_spont01_13m_14m_spk_0_18\t58.48\t80.46\tnofsu ħabba fih le mhux vera ħabba fija. Eżatt. Iva għidilna għidilna l-istorja ta' subgħajk\n",
      "dia_spont01_13m_14m_spk_0_20\t82.06\t93.22\tu joħroġ dan\n",
      "dia_spont01_13m_14m_spk_0_34\t121.9\t123.28\tmiskin\n",
      "dia_spont01_13m_14m_spk_0_39\t137.7\t150.2\tmiskin\n",
      "dia_spont01_13m_14m_spk_0_44\t170.48\t171.74\tanzi\n",
      "dia_spont01_13m_14m_spk_0_45\t171.74\t172.86\tqallek qallek issa ieqaf idgħi u telaq 'l hemm jimxi. Ma+ le gravi kien dak   miskin\n",
      "dia_spont01_13m_14m_spk_0_47\t174.86\t192.96\timbagħad konna erfajnik sa sa ħdejn il-viċi\n",
      "dia_spont01_13m_14m_spk_0_48\t192.96\t194.44\tmiskin\n",
      "dia_spont01_13m_14m_spk_0_50\t205.48\t207.8\tmiskin\n",
      "dia_spont01_13m_14m_spk_0_53\t215.48\t218.34\tmm\n",
      "dia_spont01_13m_14m_spk_0_54\t218.34\t234.88\tLi kieku fqajt subgħajja ma kienx ikolli aptit niġi jiena wkoll\n",
      "dia_spont01_13m_14m_spk_0_60\t253.42\t254.54\t?ja\n",
      "dia_spont01_13m_14m_spk_0_64\t261.26\t266.56\tija mela\n",
      "dia_spont01_13m_14m_spk_0_66\t269.0\t272.96\tJiena jiena ridt inkun hawn x'jgħidulu dak il-president tal-KFJC. Jiena min kien imissni &iġifieri kont numbrah daqshekk.\n",
      "dia_spont01_13m_14m_spk_0_70\t288.34\t290.7\tomi m\n",
      "dia_spont01_13m_14m_spk_0_71\t290.7\t291.36\t'a\n",
      "dia_spont01_13m_14m_spk_0_73\t293.3\t294.26\tumbagħad issa speċi dħalna l-Università u\n",
      "dia_spont01_13m_14m_spk_0_74\t294.26\t295.44\tu e\n",
      "dia_spont01_13m_14m_spk_0_76\t298.2\t300.72\timma\n",
      "dia_spont01_13m_14m_spk_0_77\t300.72\t312.02\timma anka\n",
      "dia_spont01_13m_14m_spk_0_78\t312.02\t313.5\t'a ironikament\n",
      "dia_spont01_13m_14m_spk_0_80\t313.76\t315.64\t'a\n",
      "dia_spont01_13m_14m_spk_0_81\t315.64\t318.66\tkellna naqra qisu xi ħaġa lejn il-kitba ukoll. Konna ktibna artiklu flimkien fi żmien JC\n",
      "dia_spont01_13m_14m_spk_0_82\t318.66\t320.78\tee ?din\n",
      "dia_spont01_13m_14m_spk_0_83\t320.78\t325.06\tDik riżultat ta' pika kienet? Għala? Ija mela mela u l-oħrajn l-SDM riedu\n",
      "dia_spont01_13m_14m_spk_0_85\t326.56\t339.84\tIva. Ħa nikteb artiklu\n",
      "dia_spont01_13m_14m_spk_0_89\t357.98\t376.3\tVera? <laughter? Ma niftakarx ma niftakarx\n",
      "dia_spont01_13m_14m_spk_0_90\t376.3\t377.78\til-ostra\n",
      "dia_spont01_13m_14m_spk_0_91\t377.78\t382.0\t'a. U mhux vera dik kienet timpika ma' kulħadd\n",
      "dia_spont01_13m_14m_spk_0_93\t383.9\t386.24\tUrejtha &iġifieri urejtha\n",
      "dia_spont01_13m_14m_spk_0_94\t386.24\t387.38\t'a ajma\n",
      "dia_spont01_13m_14m_spk_0_96\t390.46\t391.94\tajma\n",
      "dia_spont01_13m_14m_spk_0_97\t391.94\t408.34\tIja ħafna tad-daħk.\n",
      "dia_spont01_13m_14m_spk_0_99\t410.94\t413.84\tUmbagħad speċi ħalli nkomplu l-istorja tagħna\n",
      "dia_spont01_13m_14m_spk_0_100\t413.84\t414.92\t'a\n",
      "dia_spont01_13m_14m_spk_0_101\t414.92\t418.18\tCovid qisu farrak lil kulħadd\n",
      "dia_spont01_13m_14m_spk_0_103\t420.76\t422.68\tKonna qabel il-Covid &fej l-ewwel sena konna konna konna niltaqgħu ħafna hawnhekk hawn isfel fil- ... mhux hawn isfel l-iktar li konna niltaqgħu jiena u inti. Ee. Redent\n",
      "dia_spont01_13m_14m_spk_0_105\t424.84\t440.12\tLe vera inti kellna ftit ... kellna xi waħda fil-ġimgħa &iġifieri ftit għax il-bqija kont inkun xogħol jien umbagħad\n",
      "dia_spont01_13m_14m_spk_0_109\t450.78\t453.42\tinti [i]t-tort tiegħek\n",
      "dia_spont01_13m_14m_spk_0_111\t454.9\t456.94\tu+\n",
      "dia_spont01_13m_14m_spk_0_112\t456.94\t458.48\tU ija mbagħad bit-teżi tiegħi speċi kont iktar kont inkellmek fuq il-Malti u hekk. Kien jiġri xi ħaġa tad-daħk ta' ? ngħidlu ara x'kiteb\n",
      "dia_spont01_13m_14m_spk_0_113\t458.48\t459.7\tumbagħad\n",
      "dia_spont01_13m_14m_spk_0_114\t459.7\t468.5\tTiftakar dik tal- tal-aċċenti? Dik kienet bis-sens. Dik kienet bis-sens\n",
      "dia_spont01_13m_14m_spk_0_115\t468.5\t471.16\t's\n",
      "dia_spont01_13m_14m_spk_0_116\t471.16\t476.18\tImma hemm wisq xi ngħidu fuq xulxin biex\n",
      "dia_spont01_13m_14m_spk_0_117\t476.18\t477.72\tdan\n",
      "dia_spont01_13m_14m_spk_0_118\t477.72\t480.26\tgħax kieku &aqas nieqfu\n",
      "dia_spont01_13m_14m_spk_0_119\t480.26\t482.0\tIva\n",
      "dia_spont01_13m_14m_spk_0_120\t482.0\t484.5\tiva nistgħu niktbu ktieb vera.\n",
      "dia_spont01_13m_14m_spk_0_121\t485.84\t487.24\tee\n"
     ]
    }
   ],
   "source": [
    "sum_d = 0\n",
    "for fn in os.listdir(asr_root)[1:2]:\n",
    "    print(fn)\n",
    "\n",
    "    with open(os.path.join(asr_root, fn), 'r', encoding='utf-16') as r:\n",
    "        text = r.read()\n",
    "    \n",
    "    items = text.split('\\t')\n",
    "    \n",
    "    # str_ann = detect_annotator(items[3::3])\n",
    "    # str_mac = detect_machine(items[3::3])\n",
    "\n",
    "    str_mac = detect_annotator(items[3::3])\n",
    "    str_ann = detect_machine(items[3::3])\n",
    "\n",
    "    quads = []\n",
    "\n",
    "    for i in range(3, len(items), 3):\n",
    "        if equal(items[i][-len(str_ann):], str_ann):\n",
    "\n",
    "            if equal(items[i + 3][-len(str_ann):], str_ann):\n",
    "                text = items[i + 3][:-len(str_ann)]\n",
    "            elif equal(items[i + 3][-len(str_mac):], str_mac):\n",
    "                text = items[i + 3][:-len(str_mac)]\n",
    "            else:\n",
    "                text = items[i + 3]\n",
    "                # print(text)\n",
    "\n",
    "            quads.append((float(items[i + 1]), float(items[i + 2]), items[i][-len(str_ann):], text))\n",
    "\n",
    "    quads = sorted(quads)\n",
    "    annotators = set([q[2] for q in quads])\n",
    "    print(annotators)\n",
    "\n",
    "    wav, rate = torchaudio.load(os.path.join(asr_audio_root, fn[:-4] + '.wav'))\n",
    "    resampled_wav = torchaudio.functional.resample(wav, orig_freq=rate, new_freq=16000)\n",
    "    if wav.size()[0] == 2 and len(annotators) == 2:\n",
    "        for i in range(2):\n",
    "            cur_df = make_df([q for q in quads if str(i + 1) in q[2]], fn[:-4], i, resampled_wav[i], 16000)\n",
    "            all_df = cur_df if all_df is None else pd.concat([all_df, cur_df], ignore_index=True)\n",
    "    elif wav.size()[0] == 1 and len(annotators) == 1:\n",
    "        cur_df = make_df(quads, fn[:-4], 0, resampled_wav[0], 16000)\n",
    "        all_df = cur_df if all_df is None else pd.concat([all_df, cur_df], ignore_index=True)\n",
    "    elif wav.size()[0] == 2 and len(annotators) == 1:\n",
    "        cur_df = make_df(quads, fn[:-4], 0, resampled_wav[0] + resampled_wav[1], 16000)\n",
    "        all_df = cur_df if all_df is None else pd.concat([all_df, cur_df], ignore_index=True)\n",
    "    else:\n",
    "        print('more than 2 speakers')\n",
    "        raise NotImplementedError\n",
    "        "
   ]
  },
  {
   "cell_type": "code",
   "execution_count": 42,
   "metadata": {},
   "outputs": [
    {
     "data": {
      "text/plain": [
       "[(0.0, 1.68, 'Annotator', 'mhm ija'),\n",
       " (0.0, 487.24, 'Annotator', 'iwa iwa konna ltqajna s-sekondarja'),\n",
       " (0.0, 487.24, 'Annotator', 'kif ltqajtu?'),\n",
       " (1.68,\n",
       "  6.899788981043842,\n",
       "  'Annotator',\n",
       "  \"Jisimni Aidan u nsomma malajr sirna nafu 'l xulxin għax kulħadd jgħajtilna l-istess isem\"),\n",
       " (6.899788981043842, 8.64, 'Annotator', 'u'),\n",
       " (8.64, 13.22, 'Annotator', 'u dejjem'),\n",
       " (13.22,\n",
       "  14.4,\n",
       "  'Annotator',\n",
       "  'dejjem induru t-tnejn li aħna kull darba li jgħajtulna'),\n",
       " (14.4, 15.88, 'Annotator', 'a'),\n",
       " (15.88, 18.54, 'Annotator', ''),\n",
       " (18.54, 20.46, 'Annotator', 'le mhux dejjem konna ħbieb &aqqas xejn'),\n",
       " (20.46, 21.94, 'Annotator', ''),\n",
       " (21.94, 27.3, 'Annotator', 'ee'),\n",
       " (27.3, 28.84, 'Annotator', 'ee konna'),\n",
       " (28.84,\n",
       "  30.5,\n",
       "  'Annotator',\n",
       "  \"konna għamilna żmien żgħir qasir nagħtu għax hu għandu l-familja mill-Belt u jien għandi l-familja mill-Furjana allura ta' tfal innoċenti li konna konna nieħdu għalina għall kull ħaġa ta' xejn\"),\n",
       " (30.5, 32.34, 'Annotator', '<laughter> u konna'),\n",
       " (32.34, 44.18, 'Annotator', 'iġġiliedna <laughter> &naqa għalxejn'),\n",
       " (44.18, 46.423860230720194, 'Annotator', ''),\n",
       " (46.423860230720194,\n",
       "  57.2,\n",
       "  'Annotator',\n",
       "  'dejjem konna niġru warajh. Ija. Fil-/Junior/ /College/ iva'),\n",
       " (57.2, 58.48, 'Annotator', '<breath>'),\n",
       " (58.48,\n",
       "  80.46,\n",
       "  'Annotator',\n",
       "  \"Kollu tort tiegħek ta' subgħajja. Mela meta kont <laughter> Darba kont ħriġt mill-/lecture/\"),\n",
       " (80.46, 82.06, 'Annotator', 'eq u'),\n",
       " (82.06, 93.22, 'Annotator', 'u joħroġ dan'),\n",
       " (93.22, 94.62, 'Annotator', 'mhm mhm'),\n",
       " (94.62, 95.38, 'Annotator', \"biex jiċċajta ma' ma' jiġi jiġri warajja\"),\n",
       " (95.38, 96.78, 'Annotator', \"'ja\"),\n",
       " (96.78, 99.06, 'Annotator', 'u jien ġejt insomma ħrabtlu għax'),\n",
       " (99.06, 100.14, 'Annotator', 'ċċ ma'),\n",
       " (100.14, 102.12, 'Annotator', 'ma laħħaqx miegħi hu tqil u'),\n",
       " (102.12, 103.24, 'Annotator', 'u'),\n",
       " (103.24,\n",
       "  105.5,\n",
       "  'Annotator',\n",
       "  'mar lura [i]l-/benches/ fejn konna konna noqogħdu jien u [i]l-ħbieb tagħna'),\n",
       " (105.5, 107.4, 'Annotator', 'em u'),\n",
       " (107.4,\n",
       "  111.2,\n",
       "  'Annotator',\n",
       "  \"u biex nasal sal-/bench/ kien hemm qisu ċint żgħir ta' &ġiex knaten fuq xulxin kellek tgħaddi qisek minn fuqu\"),\n",
       " (111.2, 112.86, 'Annotator', 'u mort'),\n",
       " (112.86, 120.32, 'Annotator', \"'t biex biex\"),\n",
       " (120.32,\n",
       "  121.9,\n",
       "  'Annotator',\n",
       "  \"biex ngħaddi għal fuq il- il-/bench/ ħdejn ħdejn sħabi u malli għamilt sieqi fuq iċ-ċint il-kantun inqaleb lura u waqa' fuq subgħajja\"),\n",
       " (121.9, 123.28, 'Annotator', \"'jja\"),\n",
       " (123.28, 131.54, 'Annotator', 'u subgħajja nfaqa bażikament'),\n",
       " (131.54, 133.3, 'Annotator', \"'nt <laughter> u\"),\n",
       " (133.3,\n",
       "  136.1,\n",
       "  'Annotator',\n",
       "  \"u+ tgħidx kemm sallejt għadda anke kien kien il-kappillan tal- tal- ? jew x'kien. Iċ-chaplin ee u kien qalli\"),\n",
       " (136.1, 137.7, 'Annotator', \"'i\"),\n",
       " (137.7,\n",
       "  150.2,\n",
       "  'Annotator',\n",
       "  'qalli għala qed tidgħi? <laughter> U jien kelli kelli sieqi ma kontx ... Jien neħħejt kollox [i]l-kalzetti [i]ż-żarbun neħħejt kelli kelli subgħajja bid-demm ħiereġ'),\n",
       " (150.2, 151.58, 'Annotator', '<sigh>'),\n",
       " (151.58,\n",
       "  162.14,\n",
       "  'Annotator',\n",
       "  'għedtlu qed taraha sieqi? <laughter> u komplejt nidgħi u flok għeni bħala Kristjan tajjeb'),\n",
       " (162.14, 163.46, 'Annotator', '<breath> telaq'),\n",
       " (163.46, 170.48, 'Annotator', \"'l hemm <laughter>\"),\n",
       " (170.48, 171.74, 'Annotator', '<laughter>'),\n",
       " (171.74,\n",
       "  172.86,\n",
       "  'Annotator',\n",
       "  \"Iwa telaq 'l hemm. Imbagħad imbagħad indunaw <laughter> li weġġajt għax damu ma ndunaw għax jiena ma qgħadtx ... ma tantx għajjat imbagħad bil-mod il-mod malli telaq ix-xokk u bdejt inħoss l-uġigħ iva\"),\n",
       " (172.86, 174.86, 'Annotator', 'zz iktar'),\n",
       " (174.86,\n",
       "  192.96,\n",
       "  'Annotator',\n",
       "  'ehe mbagħad refawni sa fejn il-viċi prinċipal. U għamel nofsiegħa jiċċassa lejja sakemm ġie missieri. Umbagħad mort il-/policlinic/'),\n",
       " (192.96, 194.44, 'Annotator', \"'nk\"),\n",
       " (194.44,\n",
       "  205.48,\n",
       "  'Annotator',\n",
       "  'qaluli ksirtu u ma tawnix krozzi u mort id-dar għamilt tliet xhur nilbes sandli il-/Junior/ /College/'),\n",
       " (205.48, 207.8, 'Annotator', '<breath> <laughter>'),\n",
       " (207.8, 213.4, 'Annotator', '<laughter>'),\n",
       " (213.4,\n",
       "  215.48,\n",
       "  'Annotator',\n",
       "  '<laughter> ee Novembru naħseb xi ħaġa hekk. Ma kontx ġejt l-ewwel /seminar/. /To/ /be/ /fair/ ma kontx ridt niġi'),\n",
       " (215.48, 218.34, 'Annotator', 'mm'),\n",
       " (218.34, 234.88, 'Annotator', \"imbagħad ġejt ta' wara\"),\n",
       " (234.88, 236.12, 'Annotator', '<breath>'),\n",
       " (236.12,\n",
       "  239.3,\n",
       "  'Annotator',\n",
       "  'Dak iż-żmien konna għadna &aqas daqshekk ... anzi dak iż-żmien konna tbegħedna naqa oħra mhux ħabba tal-kantun għax għax kont qed tagħmilha ħafna le mhux ħabba Alexia ħabba [i]l-/Pulse/'),\n",
       " (239.3, 241.28, 'Annotator', 'mm ?ji ?jiġru'),\n",
       " (241.28, 251.46, 'Annotator', 'jiġru warajja li jdejquni'),\n",
       " (251.46, 253.42, 'Annotator', \"'i ?ii\"),\n",
       " (253.42,\n",
       "  254.54,\n",
       "  'Annotator',\n",
       "  'kont ngħidilhom li vvutajt jew ħa nivvota ħa neħles minnhom u'),\n",
       " (254.54, 256.94, 'Annotator', ''),\n",
       " (256.94, 259.92, 'Annotator', 'ma nagħtix kas umbagħad. Ee'),\n",
       " (259.92, 261.26, 'Annotator', '?le'),\n",
       " (261.26, 266.56, 'Annotator', 'le ridt tkun popolari naħseb jien'),\n",
       " (266.56, 269.0, 'Annotator', '<breath>'),\n",
       " (269.0, 272.96, 'Annotator', 'KFJC. Mq'),\n",
       " (272.96, 274.44, 'Annotator', '<laughter> nemminha'),\n",
       " (274.44, 285.24, 'Annotator', ''),\n",
       " (285.24, 288.34, 'Annotator', ''),\n",
       " (288.34, 290.7, 'Annotator', ''),\n",
       " (290.7, 291.36, 'Annotator', ''),\n",
       " (291.36, 293.3, 'Annotator', ''),\n",
       " (293.3, 294.26, 'Annotator', ''),\n",
       " (294.26, 295.44, 'Annotator', ''),\n",
       " (295.44, 298.2, 'Annotator', 'Ija. Għal-logħob u kollox'),\n",
       " (298.2, 300.72, 'Annotator', ''),\n",
       " (300.72, 312.02, 'Annotator', 'imma anka'),\n",
       " (312.02, 313.5, 'Annotator', ''),\n",
       " (313.5, 313.76, 'Annotator', ''),\n",
       " (313.76, 315.64, 'Annotator', 'Mm'),\n",
       " (315.64, 318.66, 'Annotator', 'Mhm mhm'),\n",
       " (318.66, 320.78, 'Annotator', ''),\n",
       " (320.78,\n",
       "  325.06,\n",
       "  'Annotator',\n",
       "  \"di dik kienet riżultat ta' pika jekk tiftakar sew. Ija. Għax kien hemm xi ħadd ... għax il-/Pulse/ ma ridux jagħmlu /online/ u kien hemm xi ħadd\"),\n",
       " (325.06, 326.56, 'Annotator', ''),\n",
       " (326.56,\n",
       "  339.84,\n",
       "  'Annotator',\n",
       "  \"u u aħna ... inti kont ċert li ti tista' ssir /online/ u kien hemm xi ħadd kien qed imerik li ma tistax issir bl-ebda mod u inti għedt ija ħa nikteb artiklu u kont ġejt tgħidli biex qisni ngħinek u kont qisni qisni\"),\n",
       " (339.84, 341.68, 'Annotator', 'mhm li qisha'),\n",
       " (341.68,\n",
       "  356.32,\n",
       "  'Annotator',\n",
       "  \"il- il-/bullet/ /point/ /form/ li li kont għamiltha int umbagħad kont ħa ?tellagħha. Ehe. Ija ija mhux sfida kont qed timpika ma' Julia kienet dak iż-żmien\"),\n",
       " (356.32, 357.98, 'Annotator', ''),\n",
       " (357.98,\n",
       "  376.3,\n",
       "  'Annotator',\n",
       "  'Julia Balzan. Ija ija ma tiftakarx? Niftakar qisu lbieraħ'),\n",
       " (376.3, 377.78, 'Annotator', '<laughter>'),\n",
       " (377.78, 382.0, 'Annotator', ''),\n",
       " (382.0, 383.9, 'Annotator', ''),\n",
       " (383.9, 386.24, 'Annotator', '<laughter> ?ħasibha'),\n",
       " (386.24, 387.38, 'Annotator', ''),\n",
       " (387.38, 390.46, 'Annotator', 'Mhm. L-ewwel share kien Julian tal-SDM'),\n",
       " (390.46, 391.94, 'Annotator', ''),\n",
       " (391.94, 408.34, 'Annotator', \"'a tad-daħk\"),\n",
       " (408.34, 410.94, 'Annotator', ''),\n",
       " (410.94, 413.84, 'Annotator', ''),\n",
       " (413.84, 414.92, 'Annotator', ''),\n",
       " (414.92, 418.18, 'Annotator', ''),\n",
       " (418.18, 420.76, 'Annotator', ''),\n",
       " (420.76,\n",
       "  422.68,\n",
       "  'Annotator',\n",
       "  'Insomma jiena ma ddejaqtx fil-Covid. Ee. L-Università qed tgħid? Jien ma kont nara lil ħadd l-Università. Jiena qatt ma kien ikolli /frees/ magħkom. Re Redent'),\n",
       " (422.68, 424.84, 'Annotator', 'Ija'),\n",
       " (424.84, 440.12, 'Annotator', '/Actually/ Ija ija  mhm'),\n",
       " (440.12, 441.34, 'Annotator', 'mhm <breath>'),\n",
       " (441.34, 448.2, 'Annotator', '? dejjem kien ikolli'),\n",
       " (448.2, 450.78, 'Annotator', ''),\n",
       " (450.78, 453.42, 'Annotator', '?'),\n",
       " (453.42, 454.9, 'Annotator', ''),\n",
       " (454.9, 456.94, 'Annotator', ''),\n",
       " (456.94, 458.48, 'Annotator', 'Eħe. Mm'),\n",
       " (458.48, 459.7, 'Annotator', ''),\n",
       " (459.7, 468.5, 'Annotator', 'Ija'),\n",
       " (468.5, 471.16, 'Annotator', 'imma'),\n",
       " (471.16, 476.18, 'Annotator', 'Imma hemm'),\n",
       " (476.18, 477.72, 'Annotator', ''),\n",
       " (477.72, 480.26, 'Annotator', 'Nistgħu niktbu ktieb'),\n",
       " (480.26, 482.0, 'Annotator', ''),\n",
       " (482.0, 484.5, 'Annotator', '')]"
      ]
     },
     "execution_count": 42,
     "metadata": {},
     "output_type": "execute_result"
    }
   ],
   "source": [
    "quads"
   ]
  },
  {
   "cell_type": "code",
   "execution_count": 41,
   "metadata": {},
   "outputs": [],
   "source": [
    "torchaudio.save('mt_en/dia_spont01_13m_14m_spk_0.wav', resampled_wav, 16000)\n",
    "# torchaudio.save('mt_en/dia_spont01_13m_14m_spk_1.wav', resampled_wav[1:], 16000)"
   ]
  },
  {
   "cell_type": "code",
   "execution_count": 22,
   "metadata": {},
   "outputs": [
    {
     "data": {
      "text/plain": [
       "0.11041059027777778"
      ]
     },
     "execution_count": 22,
     "metadata": {},
     "output_type": "execute_result"
    }
   ],
   "source": [
    "all_df['n_frames'].sum() / 16000 / 3600"
   ]
  },
  {
   "cell_type": "code",
   "execution_count": 73,
   "metadata": {},
   "outputs": [],
   "source": [
    "asr_iwslt_df = all_df.copy()"
   ]
  },
  {
   "cell_type": "code",
   "execution_count": 173,
   "metadata": {},
   "outputs": [],
   "source": [
    "split_ratio = [0.9, 0.1]\n",
    "n_sample = len(asr_iwslt_df)\n",
    "indices = list(range(n_sample))\n",
    "random.shuffle(indices)\n",
    "asr_iwslt_train_df = asr_iwslt_df.iloc[indices[:int(n_sample * split_ratio[0])]].sort_index().copy()\n",
    "asr_iwslt_dev_df = asr_iwslt_df.iloc[indices[int(n_sample * split_ratio[0]):]].sort_index().copy()"
   ]
  },
  {
   "cell_type": "code",
   "execution_count": 177,
   "metadata": {},
   "outputs": [],
   "source": [
    "save_df_to_tsv(asr_iwslt_train_df, os.path.join(mustc_root, 'train_asr_mt_iwslt.tsv'))\n",
    "save_df_to_tsv(asr_iwslt_dev_df, os.path.join(mustc_root, 'dev_asr_mt_iwslt.tsv'))"
   ]
  },
  {
   "cell_type": "markdown",
   "metadata": {},
   "source": [
    "# ASR from CommonVoice"
   ]
  },
  {
   "cell_type": "code",
   "execution_count": 88,
   "metadata": {},
   "outputs": [],
   "source": [
    "root = '/mnt/data/siqiouyang/datasets/cv-corpus-13.0-2023-03-09/mt'\n",
    "asr_audio_root = os.path.join(root, 'clips')\n",
    "new_wav_root = '/mnt/data/siqiouyang/datasets/must-c-v1.0/mt-en/data/asr/wav'\n",
    "mustc_root = '/mnt/data/siqiouyang/datasets/must-c-v1.0/'"
   ]
  },
  {
   "cell_type": "code",
   "execution_count": 89,
   "metadata": {},
   "outputs": [],
   "source": [
    "ori_df = load_df_from_tsv(os.path.join(root, 'validated.tsv'))"
   ]
  },
  {
   "cell_type": "code",
   "execution_count": 90,
   "metadata": {},
   "outputs": [
    {
     "data": {
      "text/html": [
       "<div>\n",
       "<style scoped>\n",
       "    .dataframe tbody tr th:only-of-type {\n",
       "        vertical-align: middle;\n",
       "    }\n",
       "\n",
       "    .dataframe tbody tr th {\n",
       "        vertical-align: top;\n",
       "    }\n",
       "\n",
       "    .dataframe thead th {\n",
       "        text-align: right;\n",
       "    }\n",
       "</style>\n",
       "<table border=\"1\" class=\"dataframe\">\n",
       "  <thead>\n",
       "    <tr style=\"text-align: right;\">\n",
       "      <th></th>\n",
       "      <th>client_id</th>\n",
       "      <th>path</th>\n",
       "      <th>sentence</th>\n",
       "      <th>up_votes</th>\n",
       "      <th>down_votes</th>\n",
       "      <th>age</th>\n",
       "      <th>gender</th>\n",
       "      <th>accents</th>\n",
       "      <th>variant</th>\n",
       "      <th>locale</th>\n",
       "      <th>segment</th>\n",
       "    </tr>\n",
       "  </thead>\n",
       "  <tbody>\n",
       "    <tr>\n",
       "      <th>0</th>\n",
       "      <td>119ecbc0c91da642d62bcc7b87db0e6bc4c104715290ca...</td>\n",
       "      <td>common_voice_mt_22259676.mp3</td>\n",
       "      <td>Ix-xogħol mistenni jibda dan ix-xahar stess u ...</td>\n",
       "      <td>2</td>\n",
       "      <td>0</td>\n",
       "      <td></td>\n",
       "      <td></td>\n",
       "      <td></td>\n",
       "      <td></td>\n",
       "      <td>mt</td>\n",
       "      <td></td>\n",
       "    </tr>\n",
       "    <tr>\n",
       "      <th>1</th>\n",
       "      <td>2812a0daa8849062529bbe704f20be91c8667a03445da9...</td>\n",
       "      <td>common_voice_mt_22463716.mp3</td>\n",
       "      <td>It-tifla rringrazzjatha ta' dak kollu li għaml...</td>\n",
       "      <td>2</td>\n",
       "      <td>0</td>\n",
       "      <td></td>\n",
       "      <td></td>\n",
       "      <td></td>\n",
       "      <td></td>\n",
       "      <td>mt</td>\n",
       "      <td></td>\n",
       "    </tr>\n",
       "    <tr>\n",
       "      <th>2</th>\n",
       "      <td>4328dce099b8584ea25b687213a72ea7d7666c88f09ab3...</td>\n",
       "      <td>common_voice_mt_22196702.mp3</td>\n",
       "      <td>Bl-ikbar responsabbilta' nerġa' ntenni li jien...</td>\n",
       "      <td>2</td>\n",
       "      <td>0</td>\n",
       "      <td>fifties</td>\n",
       "      <td>male</td>\n",
       "      <td></td>\n",
       "      <td></td>\n",
       "      <td>mt</td>\n",
       "      <td></td>\n",
       "    </tr>\n",
       "    <tr>\n",
       "      <th>3</th>\n",
       "      <td>4e65a29d25e88c47b77cda815a5f1ec02097c8b4102a66...</td>\n",
       "      <td>common_voice_mt_23742149.mp3</td>\n",
       "      <td>Jiena nsib ruħi idjota niddiskuti affarijiet l...</td>\n",
       "      <td>2</td>\n",
       "      <td>0</td>\n",
       "      <td></td>\n",
       "      <td></td>\n",
       "      <td></td>\n",
       "      <td></td>\n",
       "      <td>mt</td>\n",
       "      <td></td>\n",
       "    </tr>\n",
       "    <tr>\n",
       "      <th>4</th>\n",
       "      <td>5136da6537f4a0d4acf487b0f8e9d6546405f0ee393d1d...</td>\n",
       "      <td>common_voice_mt_21921959.mp3</td>\n",
       "      <td>Jekk hemm problema hemm problema u wieħed irid...</td>\n",
       "      <td>2</td>\n",
       "      <td>0</td>\n",
       "      <td></td>\n",
       "      <td></td>\n",
       "      <td></td>\n",
       "      <td></td>\n",
       "      <td>mt</td>\n",
       "      <td></td>\n",
       "    </tr>\n",
       "    <tr>\n",
       "      <th>...</th>\n",
       "      <td>...</td>\n",
       "      <td>...</td>\n",
       "      <td>...</td>\n",
       "      <td>...</td>\n",
       "      <td>...</td>\n",
       "      <td>...</td>\n",
       "      <td>...</td>\n",
       "      <td>...</td>\n",
       "      <td>...</td>\n",
       "      <td>...</td>\n",
       "      <td>...</td>\n",
       "    </tr>\n",
       "    <tr>\n",
       "      <th>6378</th>\n",
       "      <td>013358357c251280edcdc585291df70be4d52c209c3d39...</td>\n",
       "      <td>common_voice_mt_21991213.mp3</td>\n",
       "      <td>Issa ħalli nispjega xi ħaġa għax hija importanti.</td>\n",
       "      <td>2</td>\n",
       "      <td>0</td>\n",
       "      <td>fifties</td>\n",
       "      <td>female</td>\n",
       "      <td></td>\n",
       "      <td></td>\n",
       "      <td>mt</td>\n",
       "      <td></td>\n",
       "    </tr>\n",
       "    <tr>\n",
       "      <th>6379</th>\n",
       "      <td>013358357c251280edcdc585291df70be4d52c209c3d39...</td>\n",
       "      <td>common_voice_mt_22176840.mp3</td>\n",
       "      <td>Jekk nara dan it-taħżiż hawn, nista' nkun naf?</td>\n",
       "      <td>2</td>\n",
       "      <td>0</td>\n",
       "      <td>fifties</td>\n",
       "      <td>female</td>\n",
       "      <td></td>\n",
       "      <td></td>\n",
       "      <td>mt</td>\n",
       "      <td></td>\n",
       "    </tr>\n",
       "    <tr>\n",
       "      <th>6380</th>\n",
       "      <td>013358357c251280edcdc585291df70be4d52c209c3d39...</td>\n",
       "      <td>common_voice_mt_22177053.mp3</td>\n",
       "      <td>Ovvjament hemmhekk imbagħad inqabad, intbagħat...</td>\n",
       "      <td>2</td>\n",
       "      <td>0</td>\n",
       "      <td>fifties</td>\n",
       "      <td>female</td>\n",
       "      <td></td>\n",
       "      <td></td>\n",
       "      <td>mt</td>\n",
       "      <td></td>\n",
       "    </tr>\n",
       "    <tr>\n",
       "      <th>6381</th>\n",
       "      <td>013358357c251280edcdc585291df70be4d52c209c3d39...</td>\n",
       "      <td>common_voice_mt_22205002.mp3</td>\n",
       "      <td>Kienu jgħidu: Aħna niddeċiedu mbagħad niġu qud...</td>\n",
       "      <td>2</td>\n",
       "      <td>0</td>\n",
       "      <td>fifties</td>\n",
       "      <td>female</td>\n",
       "      <td></td>\n",
       "      <td></td>\n",
       "      <td>mt</td>\n",
       "      <td></td>\n",
       "    </tr>\n",
       "    <tr>\n",
       "      <th>6382</th>\n",
       "      <td>013358357c251280edcdc585291df70be4d52c209c3d39...</td>\n",
       "      <td>common_voice_mt_22205324.mp3</td>\n",
       "      <td>Imma jekk ikun hemm firma ta' żewġ uffiċjali h...</td>\n",
       "      <td>2</td>\n",
       "      <td>0</td>\n",
       "      <td>fifties</td>\n",
       "      <td>female</td>\n",
       "      <td></td>\n",
       "      <td></td>\n",
       "      <td>mt</td>\n",
       "      <td></td>\n",
       "    </tr>\n",
       "  </tbody>\n",
       "</table>\n",
       "<p>6383 rows × 11 columns</p>\n",
       "</div>"
      ],
      "text/plain": [
       "                                              client_id  \\\n",
       "0     119ecbc0c91da642d62bcc7b87db0e6bc4c104715290ca...   \n",
       "1     2812a0daa8849062529bbe704f20be91c8667a03445da9...   \n",
       "2     4328dce099b8584ea25b687213a72ea7d7666c88f09ab3...   \n",
       "3     4e65a29d25e88c47b77cda815a5f1ec02097c8b4102a66...   \n",
       "4     5136da6537f4a0d4acf487b0f8e9d6546405f0ee393d1d...   \n",
       "...                                                 ...   \n",
       "6378  013358357c251280edcdc585291df70be4d52c209c3d39...   \n",
       "6379  013358357c251280edcdc585291df70be4d52c209c3d39...   \n",
       "6380  013358357c251280edcdc585291df70be4d52c209c3d39...   \n",
       "6381  013358357c251280edcdc585291df70be4d52c209c3d39...   \n",
       "6382  013358357c251280edcdc585291df70be4d52c209c3d39...   \n",
       "\n",
       "                              path  \\\n",
       "0     common_voice_mt_22259676.mp3   \n",
       "1     common_voice_mt_22463716.mp3   \n",
       "2     common_voice_mt_22196702.mp3   \n",
       "3     common_voice_mt_23742149.mp3   \n",
       "4     common_voice_mt_21921959.mp3   \n",
       "...                            ...   \n",
       "6378  common_voice_mt_21991213.mp3   \n",
       "6379  common_voice_mt_22176840.mp3   \n",
       "6380  common_voice_mt_22177053.mp3   \n",
       "6381  common_voice_mt_22205002.mp3   \n",
       "6382  common_voice_mt_22205324.mp3   \n",
       "\n",
       "                                               sentence  up_votes  down_votes  \\\n",
       "0     Ix-xogħol mistenni jibda dan ix-xahar stess u ...         2           0   \n",
       "1     It-tifla rringrazzjatha ta' dak kollu li għaml...         2           0   \n",
       "2     Bl-ikbar responsabbilta' nerġa' ntenni li jien...         2           0   \n",
       "3     Jiena nsib ruħi idjota niddiskuti affarijiet l...         2           0   \n",
       "4     Jekk hemm problema hemm problema u wieħed irid...         2           0   \n",
       "...                                                 ...       ...         ...   \n",
       "6378  Issa ħalli nispjega xi ħaġa għax hija importanti.         2           0   \n",
       "6379     Jekk nara dan it-taħżiż hawn, nista' nkun naf?         2           0   \n",
       "6380  Ovvjament hemmhekk imbagħad inqabad, intbagħat...         2           0   \n",
       "6381  Kienu jgħidu: Aħna niddeċiedu mbagħad niġu qud...         2           0   \n",
       "6382  Imma jekk ikun hemm firma ta' żewġ uffiċjali h...         2           0   \n",
       "\n",
       "          age  gender accents variant locale segment  \n",
       "0                                         mt          \n",
       "1                                         mt          \n",
       "2     fifties    male                     mt          \n",
       "3                                         mt          \n",
       "4                                         mt          \n",
       "...       ...     ...     ...     ...    ...     ...  \n",
       "6378  fifties  female                     mt          \n",
       "6379  fifties  female                     mt          \n",
       "6380  fifties  female                     mt          \n",
       "6381  fifties  female                     mt          \n",
       "6382  fifties  female                     mt          \n",
       "\n",
       "[6383 rows x 11 columns]"
      ]
     },
     "execution_count": 90,
     "metadata": {},
     "output_type": "execute_result"
    }
   ],
   "source": [
    "ori_df"
   ]
  },
  {
   "cell_type": "code",
   "execution_count": 92,
   "metadata": {},
   "outputs": [
    {
     "name": "stderr",
     "output_type": "stream",
     "text": [
      "100%|██████████| 6383/6383 [01:01<00:00, 104.19it/s]\n"
     ]
    }
   ],
   "source": [
    "new_df = pd.DataFrame(columns=['id', 'audio', 'n_frames', 'src_text', 'speaker', 'src_lang'])\n",
    "\n",
    "id = []\n",
    "audio = []\n",
    "n_frames = []\n",
    "src_text = []\n",
    "speaker = []\n",
    "src_lang = []\n",
    "\n",
    "for row in tqdm(ori_df.iterrows(), total=len(ori_df)):\n",
    "    idx, row = row\n",
    "    \n",
    "    ind = row['path'][:-4]\n",
    "\n",
    "    wav, rate = torchaudio.load(os.path.join(asr_audio_root, ind + '.mp3'))\n",
    "    resampled_wav = torchaudio.functional.resample(wav, orig_freq=rate, new_freq=16000)\n",
    "    torchaudio.save(os.path.join(new_wav_root, ind + '.wav'), resampled_wav, 16000)\n",
    "    # os.makedirs('/mnt/data/siqiouyang/datasets/must-c-v1.0/mt-en/data/asr/align_mfat/' + row['client_id'][-10:], exist_ok=True)\n",
    "    # torchaudio.save(os.path.join('/mnt/data/siqiouyang/datasets/must-c-v1.0/mt-en/data/asr/align_mfat/', row['client_id'][-10:], ind + '.wav'), resampled_wav, 16000)\n",
    "\n",
    "    id.append(ind)\n",
    "    audio.append('mt-en/data/asr/wav/{}.wav'.format(ind))\n",
    "    n_frames.append(int(resampled_wav.size(1)))\n",
    "    src_text.append(row['sentence'])\n",
    "    speaker.append(row['client_id'][-10:])\n",
    "    src_lang.append('mt')\n",
    "\n",
    "new_df['id'] = id\n",
    "new_df['audio'] = audio\n",
    "new_df['n_frames'] = n_frames\n",
    "new_df['src_text'] = src_text\n",
    "new_df['speaker'] = speaker\n",
    "new_df['src_lang'] = src_lang"
   ]
  },
  {
   "cell_type": "code",
   "execution_count": 201,
   "metadata": {},
   "outputs": [
    {
     "data": {
      "text/plain": [
       "8.276866666666667"
      ]
     },
     "execution_count": 201,
     "metadata": {},
     "output_type": "execute_result"
    }
   ],
   "source": [
    "new_df['n_frames'].sum() / 16000 / 3600"
   ]
  },
  {
   "cell_type": "code",
   "execution_count": 196,
   "metadata": {},
   "outputs": [],
   "source": [
    "asr_cv_df = new_df.copy()"
   ]
  },
  {
   "cell_type": "code",
   "execution_count": 197,
   "metadata": {},
   "outputs": [],
   "source": [
    "split_ratio = [0.9, 0.1]\n",
    "n_sample = len(asr_cv_df)\n",
    "indices = list(range(n_sample))\n",
    "random.shuffle(indices)\n",
    "asr_cv_train_df = asr_cv_df.iloc[indices[:int(n_sample * split_ratio[0])]].sort_index().copy()\n",
    "asr_cv_dev_df = asr_cv_df.iloc[indices[int(n_sample * split_ratio[0]):]].sort_index().copy()"
   ]
  },
  {
   "cell_type": "code",
   "execution_count": 200,
   "metadata": {},
   "outputs": [],
   "source": [
    "save_df_to_tsv(asr_cv_train_df, os.path.join(mustc_root, 'train_asr_mt_cv.tsv'))\n",
    "save_df_to_tsv(asr_cv_dev_df, os.path.join(mustc_root, 'dev_asr_mt_cv.tsv'))"
   ]
  },
  {
   "cell_type": "markdown",
   "metadata": {},
   "source": [
    "# ST from IWSLT"
   ]
  },
  {
   "cell_type": "code",
   "execution_count": 93,
   "metadata": {},
   "outputs": [],
   "source": [
    "root = '/mnt/data/siqiouyang/datasets/IWSLT_MT_EN/MT_EN'"
   ]
  },
  {
   "cell_type": "code",
   "execution_count": 94,
   "metadata": {},
   "outputs": [],
   "source": [
    "st_audio_root = os.path.join(root, 'mt_en_parallel', 'Audio')\n",
    "mt_root = os.path.join(root, 'mt_en_parallel', 'Transcription', 'Malti')\n",
    "en_root = os.path.join(root, 'mt_en_parallel', 'Transcription', 'English')\n",
    "new_wav_root = '/mnt/data/siqiouyang/datasets/must-c-v1.0/mt-en/data/st/wav'\n",
    "new_asr_wav_root = '/mnt/data/siqiouyang/datasets/must-c-v1.0/mt-en/data/asr/wav'\n",
    "mustc_root = '/mnt/data/siqiouyang/datasets/must-c-v1.0/'"
   ]
  },
  {
   "cell_type": "code",
   "execution_count": 95,
   "metadata": {},
   "outputs": [],
   "source": [
    "def asr_make_df(mt_en_df, wav_id, speaker_id, wav, rate):\n",
    "    df = pd.DataFrame(columns=['id', 'audio', 'n_frames', 'src_text', 'speaker', 'src_lang'])\n",
    "\n",
    "    id = []\n",
    "    audio = []\n",
    "    n_frames = []\n",
    "    src_text = []\n",
    "    speaker = []\n",
    "    src_lang = []\n",
    "\n",
    "    os.makedirs(os.path.join('/mnt/data/siqiouyang/datasets/must-c-v1.0/mt-en/data/asr/align_mfat/', wav_id + '_spk_{}'.format(speaker_id)), exist_ok=True)\n",
    "\n",
    "    for q in tqdm(mt_en_df.iterrows(), total=len(mt_en_df)):\n",
    "        idx, q = q[0], q[1]\n",
    "        duration = q['End'] - q['Start']\n",
    "        s_text = re.sub('<.*>', ' ', q['Text_y']).strip()\n",
    "        if duration > 0.5 and duration < 30 and '/' not in s_text and s_text != \"\":\n",
    "            subwav_id = wav_id + '_spk_{}_{}'.format(speaker_id, idx)\n",
    "            wav_s, wav_e = int(q['Start'] * rate), int(q['End'] * rate)\n",
    "            torchaudio.save(os.path.join(new_asr_wav_root, subwav_id + '.wav'), wav[wav_s : wav_e].unsqueeze(0), rate)\n",
    "            torchaudio.save(os.path.join('/mnt/data/siqiouyang/datasets/must-c-v1.0/mt-en/data/asr/align_mfat/', wav_id + '_spk_{}'.format(speaker_id), subwav_id + '.wav'), wav[wav_s : wav_e].unsqueeze(0), rate)\n",
    "            \n",
    "            id.append(subwav_id)\n",
    "            audio.append('mt-en/data/asr/wav/{}.wav'.format(subwav_id))\n",
    "            n_frames.append(wav_e - wav_s)\n",
    "            src_text.append(s_text)\n",
    "            speaker.append(q['Speaker'])\n",
    "            src_lang.append('mt')\n",
    "\n",
    "    df['id'] = id\n",
    "    df['audio'] = audio\n",
    "    df['n_frames'] = pd.Series(n_frames, dtype=int)\n",
    "    df['src_text'] = src_text\n",
    "    df['speaker'] = speaker\n",
    "    df['src_lang'] = src_lang\n",
    "    return df"
   ]
  },
  {
   "cell_type": "code",
   "execution_count": 75,
   "metadata": {},
   "outputs": [],
   "source": [
    "def st_make_df(mt_en_df, wav_id, speaker_id, wav, rate, ):\n",
    "    df = pd.DataFrame(columns=['id', 'audio', 'n_frames', 'src_text', 'tgt_text', 'speaker', 'src_lang', 'tgt_lang'])\n",
    "\n",
    "    id = []\n",
    "    audio = []\n",
    "    n_frames = []\n",
    "    src_text = []\n",
    "    tgt_text = []\n",
    "    speaker = []\n",
    "    src_lang = []\n",
    "    tgt_lang = []\n",
    "\n",
    "    for q in tqdm(mt_en_df.iterrows(), total=len(mt_en_df)):\n",
    "        idx, q = q[0], q[1]\n",
    "        duration = q['End'] - q['Start']\n",
    "        s_text = re.sub('<.*>', ' ', q['Text_y']).strip()\n",
    "        t_text = re.sub('<.*>', ' ', q['Text_x']).strip()\n",
    "        if duration > 0.5 and duration < 30 and '/' not in s_text + t_text and s_text != \"\" and t_text != \"\":\n",
    "            subwav_id = wav_id + '_spk_{}_{}'.format(speaker_id, idx)\n",
    "            wav_s, wav_e = int(q['Start'] * rate), int(q['End'] * rate)\n",
    "            # torchaudio.save(os.path.join(new_wav_root, subwav_id + '.wav'), wav[wav_s : wav_e].unsqueeze(0), rate)\n",
    "            \n",
    "            id.append(subwav_id)\n",
    "            audio.append('mt-en/data/st/wav/{}.wav'.format(subwav_id))\n",
    "            n_frames.append(wav_e - wav_s)\n",
    "            src_text.append(s_text)\n",
    "            tgt_text.append(t_text)\n",
    "            speaker.append(q['Speaker'])\n",
    "            src_lang.append('mt')\n",
    "            tgt_lang.append('en')\n",
    "\n",
    "            print(subwav_id, q['Start'], q['End'], s_text)\n",
    "\n",
    "    df['id'] = id\n",
    "    df['audio'] = audio\n",
    "    df['n_frames'] = pd.Series(n_frames, dtype=int)\n",
    "    df['src_text'] = src_text\n",
    "    df['tgt_text'] = tgt_text\n",
    "    df['speaker'] = speaker\n",
    "    df['src_lang'] = src_lang\n",
    "    df['tgt_lang'] = tgt_lang\n",
    "    return df"
   ]
  },
  {
   "cell_type": "code",
   "execution_count": 51,
   "metadata": {},
   "outputs": [
    {
     "name": "stdout",
     "output_type": "stream",
     "text": [
      "Dia_Spont02_13M_14M.wav ['Annotator SP 1 ', 'Annotator SP 2 ']\n"
     ]
    },
    {
     "name": "stderr",
     "output_type": "stream",
     "text": [
      "100%|██████████| 170/170 [00:00<00:00, 4006.29it/s]\n"
     ]
    },
    {
     "name": "stdout",
     "output_type": "stream",
     "text": [
      "Dia_Spont02_13M_14M_spk_0_0 0.006881827 2.245248 Il-ħobż.\n",
      "Dia_Spont02_13M_14M_spk_0_14 17.73556 19.25959 M'għandniex inħalluh haw'.\n",
      "Dia_Spont02_13M_14M_spk_0_16 21.64732 22.34847 Eħe+\n",
      "Dia_Spont02_13M_14M_spk_0_18 23.21309 24.53217 U jien ma ko...\n",
      "Dia_Spont02_13M_14M_spk_0_20 24.53217 25.60337 mhux kulħadd kien jaf.\n",
      "Dia_Spont02_13M_14M_spk_0_21 25.60337 26.69405 Jiena fil-bidu ma kontx naf\n",
      "Dia_Spont02_13M_14M_spk_0_22 26.69405 28.3586 għax li kien qed jiġri\n",
      "Dia_Spont02_13M_14M_spk_0_23 28.3586 30.20887 jiena tfajtu lura fil-ħamrija\n",
      "Dia_Spont02_13M_14M_spk_0_25 30.69995 32.10041 u kuljum nerġa' mmur\n",
      "Dia_Spont02_13M_14M_spk_0_26 32.10041 33.6001 l-iskola dejjem narah\n",
      "Dia_Spont02_13M_14M_spk_0_27 33.6001 34.68986 resaq\n",
      "Dia_Spont02_13M_14M_spk_0_28 34.68986 35.34974 pulzier\n",
      "Dia_Spont02_13M_14M_spk_0_30 35.34974 37.53992 iktar lejna.\n",
      "Dia_Spont02_13M_14M_spk_0_31 37.53992 38.82699 Kont ħa niġġennen\n",
      "Dia_Spont02_13M_14M_spk_0_32 38.82699 41.14492 da... qis... qisu qed jiġri warajja wara li faqagħli subgħajja\n",
      "Dia_Spont02_13M_14M_spk_0_34 41.14492 43.16979 qisu qed jiġri wara... warajja issa dal-kantun.\n",
      "Dia_Spont02_13M_14M_spk_0_37 43.16979 46.69109 Kull... kuljum narah pulzier mexa le... lej... lej' il-lemin.\n",
      "Dia_Spont02_13M_14M_spk_0_39 47.44094 48.35923 Ma nafx x'kien.\n",
      "Dia_Spont02_13M_14M_spk_0_40 48.35923 50.19002 Int kont qed tressqu? Min kien qed ire...\n",
      "Dia_Spont02_13M_14M_spk_0_43 51.45148 53.17306 Ma nafx min kien   għadni ma nafx s'issa\n",
      "Dia_Spont02_13M_14M_spk_0_44 53.17306 54.01055 min kien qed iressqu.\n",
      "Dia_Spont02_13M_14M_spk_0_46 54.01055 54.70591 Vera kienet tad-daħq\n",
      "Dia_Spont02_13M_14M_spk_0_47 54.70591 57.53162 għax imbagħad ġie eżatt faċċata ta' fej' konna ndu... noqogħdu bilqiegħda.\n",
      "Dia_Spont02_13M_14M_spk_0_49 58.31602 59.8644 U kull min iko...\n",
      "Dia_Spont02_13M_14M_spk_0_50 59.8644 61.22822 Kull min kien ikollu l-ħobż\n",
      "Dia_Spont02_13M_14M_spk_0_51 61.22822 62.56236 dakinhar m'għoġbux+\n",
      "Dia_Spont02_13M_14M_spk_0_52 62.56236 63.52088 jew+\n",
      "Dia_Spont02_13M_14M_spk_0_53 63.52088 65.2056 ħażin+ jew ma nafx\n",
      "Dia_Spont02_13M_14M_spk_0_55 66.59145 68.44704 ma jkunx irid jieklu kien jitfa' l-ħobż\n",
      "Dia_Spont02_13M_14M_spk_0_56 68.44704 69.34783 fuq il-kantun.\n",
      "Dia_Spont02_13M_14M_spk_0_59 70.94421 72.23453 Ee kien qisu altar.\n",
      "Dia_Spont02_13M_14M_spk_0_61 72.23453 73.328 Allura konna ?qisnu\n",
      "Dia_Spont02_13M_14M_spk_0_63 74.50053 76.06375 ta' studenti\n",
      "Dia_Spont02_13M_14M_spk_0_69 81.34328 82.18076 Eħe.\n",
      "Dia_Spont02_13M_14M_spk_0_73 83.58353 84.46484 Il-ħamiem.\n",
      "Dia_Spont02_13M_14M_spk_0_77 88.83801 90.23476 I+va kienet ċajta.\n",
      "Dia_Spont02_13M_14M_spk_0_82 94.62161 96.63743 'flok nistudjaw ee 'ġifieri.\n",
      "Dia_Spont02_13M_14M_spk_0_84 96.63743 98.78518 Konna   nitbaħanħu\n",
      "Dia_Spont02_13M_14M_spk_0_85 98.78518 100.4852 madwar il-kantun.\n",
      "Dia_Spont02_13M_14M_spk_0_88 101.2805 102.342 Mm.\n",
      "Dia_Spont02_13M_14M_spk_0_91 104.4874 105.9043 Jew 'il sħabna stess.\n",
      "Dia_Spont02_13M_14M_spk_0_99 110.0832 111.3248 Darba\n",
      "Dia_Spont02_13M_14M_spk_0_101 111.3248 112.3951 konna qegħdin\n",
      "Dia_Spont02_13M_14M_spk_0_105 114.1716 115.8856 niżżuffjettaw mal... mal-kantun\n",
      "Dia_Spont02_13M_14M_spk_0_107 115.8856 117.0374 bħas-soltu\n",
      "Dia_Spont02_13M_14M_spk_0_109 117.5925 120.1324 u għaddiet xi għalliema\n",
      "Dia_Spont02_13M_14M_spk_0_111 120.1324 120.9212 u\n",
      "Dia_Spont02_13M_14M_spk_0_113 121.5352 122.7865 u ġiet tgħajjat.\n",
      "Dia_Spont02_13M_14M_spk_0_118 126.9176 127.5847 Mhm.\n",
      "Dia_Spont02_13M_14M_spk_0_132 141.9396 143.1325 M'aħniex ħa nerġgħu nagħmluha.\n",
      "Dia_Spont02_13M_14M_spk_0_134 143.7477 144.868 Imbagħad l-għada erġajna għamilnieha.\n",
      "Dia_Spont02_13M_14M_spk_0_143 157.8841 158.7026 Ija.\n",
      "Dia_Spont02_13M_14M_spk_0_152 168.6099 169.608 Il... id... i...\n",
      "Dia_Spont02_13M_14M_spk_0_154 169.944 171.2652 Il-ħabib tagħna Dylan\n",
      "Dia_Spont02_13M_14M_spk_0_159 175.1206 177.5389 u konna mmorru fi klassi mhux qed tintuża\n",
      "Dia_Spont02_13M_14M_spk_0_160 177.5389 178.9517 li... kienu już... u\n",
      "Dia_Spont02_13M_14M_spk_0_162 178.9517 180.4611 kienu rari jużawha\n",
      "Dia_Spont02_13M_14M_spk_0_167 183.5829 185.3764 Eħe konna ?naqgħu plakka\n",
      "Dia_Spont02_13M_14M_spk_0_171 188.564 190.6334 Nitfgħu   li... f... [i]l-frott.\n",
      "Dia_Spont02_13M_14M_spk_0_173 190.6334 193.1816 Xi kultant naq'a vodka.\n",
      "Dia_Spont02_13M_14M_spk_0_176 196.9577 198.6181 ħafna mid-drabi eħe.\n",
      "Dia_Spont02_13M_14M_spk_0_183 203.7223 207.5497 Ma konniex studenti eżemplari dak iż-żmien imma wasalna b'xi mod.\n",
      "Dia_Spont02_13M_14M_spk_0_189 212.733 215.6804 Ifhem   ta... ta... taz-zalzett.\n",
      "Dia_Spont02_13M_14M_spk_0_194 219.9564 221.6101 Ma kellix aptit immur\n",
      "Dia_Spont02_13M_14M_spk_0_195 221.6101 223.0173 u sa mnalla ma mortx.\n",
      "Dia_Spont02_13M_14M_spk_0_197 223.0173 226.412 Konna qegħdin fl-istess post ta'   fej' il-kantun ma nafx\n",
      "Dia_Spont02_13M_14M_spk_0_230 273.0425 273.8855 sura.\n",
      "Dia_Spont02_13M_14M_spk_0_243 290.5426 293.0258 Ta' Dylan kien jew ta' Ethan? Naħseb ta' Ethan.\n",
      "Dia_Spont02_13M_14M_spk_0_248 294.5311 295.5552 Ta' Kyle kien.\n",
      "Dia_Spont02_13M_14M_spk_0_250 295.935 297.9947 Tagħna nafu li kien hemm   'iġifieri tiegħu\n",
      "Dia_Spont02_13M_14M_spk_0_253 297.9947 299.3587 kien u kien\n",
      "Dia_Spont02_13M_14M_spk_0_299 360.4452 362.1055 U kien hemm Dylan ukoll erbgħa.\n",
      "Dia_Spont02_13M_14M_spk_0_303 366.082 368.2633 Iva erbgħa le tlieta għedt ilħaqt ħriġt\n",
      "Dia_Spont02_13M_14M_spk_0_305 369.2636 370.2033 Ee\n",
      "Dia_Spont02_13M_14M_spk_0_309 373.6076 374.3623 Fhimt.\n",
      "Dia_Spont02_13M_14M_spk_0_342 412.1337 413.1713 Jien niftakar\n",
      "Dia_Spont02_13M_14M_spk_0_343 413.1713 415.4111 għax kienu marru &jixxu daw' u damu\n",
      "Dia_Spont02_13M_14M_spk_0_345 415.4111 416.6242 ħafna\n",
      "Dia_Spont02_13M_14M_spk_0_346 416.6242 418.2456 biex &jixxu biċċa ?we...\n",
      "Dia_Spont02_13M_14M_spk_0_347 418.2456 419.5559 Kemm qed idumu?\n",
      "Dia_Spont02_13M_14M_spk_0_348 419.5559 421.5425 Jien ma ridtx immur għax ma   kelli l-ikel.\n",
      "Dia_Spont02_13M_14M_spk_0_349 421.5425 423.0672 Ħa jdumu mbagħad\n",
      "Dia_Spont02_13M_14M_spk_0_357 433.3898 434.2954 Ma niftakarx.\n",
      "Dia_Spont02_13M_14M_spk_0_364 443.6961 445.5317 [U]mbagħad tlaqt mill-iskola.\n",
      "Dia_Spont02_13M_14M_spk_0_377 458.6545 461.5361 Iva le kesħin ma konniex imma\n",
      "Dia_Spont02_13M_14M_spk_0_382 465.5872 466.2056 Sew.\n",
      "Dia_Spont02_13M_14M_spk_0_394 481.5102 482.1334 mm\n",
      "Dia_Spont02_13M_14M_spk_0_426 525.5493 526.2261 Le.\n",
      "Dia_Spont02_13M_14M_spk_0_442 550.4562 552.079 Għax Ethan jirrispondi.\n",
      "Dia_Spont02_13M_14M_spk_0_444 553.6216 555.9352 U+ anka dak il-ħin   'ġifieri dej...\n"
     ]
    },
    {
     "name": "stderr",
     "output_type": "stream",
     "text": [
      "100%|██████████| 287/287 [00:00<00:00, 3620.14it/s]"
     ]
    },
    {
     "name": "stdout",
     "output_type": "stream",
     "text": [
      "Dia_Spont02_13M_14M_spk_1_1 0.007271497 1.02 Irrekordjata.\n",
      "Dia_Spont02_13M_14M_spk_1_3 3.337748 5.090631 Mela [i]l-kantun sewwa\n",
      "Dia_Spont02_13M_14M_spk_1_6 6.25335 8.23995 wara li faqa' subgħajh\n",
      "Dia_Spont02_13M_14M_spk_1_7 8.23995 10.00644 għedna orrajt   x'ħa nagħmlu bih dal-kantun?\n",
      "Dia_Spont02_13M_14M_spk_1_8 10.00644 11.98655 u lo... erġajna tfajnieh lura f'postu+.\n",
      "Dia_Spont02_13M_14M_spk_1_9 11.98655 13.22717 Em imma mbagħad\n",
      "Dia_Spont02_13M_14M_spk_1_10 13.22717 15.18162 ta' studenti bravi li konna għedna dan\n",
      "Dia_Spont02_13M_14M_spk_1_13 16.57744 18.99346 Dan mhux... m'għandniex inħalluh fejn qiegħed.\n",
      "Dia_Spont02_13M_14M_spk_1_15 18.99346 22.42 Għedna orrajt ejja nitfgħuh ik... ik... iktar viċin tagħna speċi\n",
      "Dia_Spont02_13M_14M_spk_1_19 23.5 24.59778 taħt siġra.\n",
      "Dia_Spont02_13M_14M_spk_1_24 30.06418 30.80429 Eżatt\n",
      "Dia_Spont02_13M_14M_spk_1_41 49.17134 51.32488 Le mhux jien mhux jien kont qed inressqu.\n",
      "Dia_Spont02_13M_14M_spk_1_48 57.52443 58.14281 Eżatt\n",
      "Dia_Spont02_13M_14M_spk_1_54 65.84647 67.15139 Ma jkunx irid jieklu ħa\n",
      "Dia_Spont02_13M_14M_spk_1_57 68.44704 69.72276 fuq... fuq il-kantun.\n",
      "Dia_Spont02_13M_14M_spk_1_58 69.72276 72.19557 Għax kien qisu altar hekk qiegħed hemm taħt is-siġra.\n",
      "Dia_Spont02_13M_14M_spk_1_60 72.19557 72.97742 mm kantun\n",
      "Dia_Spont02_13M_14M_spk_1_62 73.51789 74.46737 li waqa' fuq subgħajh.\n",
      "Dia_Spont02_13M_14M_spk_1_68 81.11651 82.40474 u hekk jiekluhom 'ġifieri\n",
      "Dia_Spont02_13M_14M_spk_1_70 82.40474 83.1692 kienet hekk.\n",
      "Dia_Spont02_13M_14M_spk_1_72 83.52998 84.6937 Uwija [u]mbagħad\n",
      "Dia_Spont02_13M_14M_spk_1_74 84.6937 86.73432 għamilnieha ċajta speċi li aħna\n",
      "Dia_Spont02_13M_14M_spk_1_75 86.73432 88.24375 naduraw il-ħobż divin.\n",
      "Dia_Spont02_13M_14M_spk_1_76 88.24375 90.87262 Għax nitfgħu l-ħobż fuq il+- dana hekk\n",
      "Dia_Spont02_13M_14M_spk_1_79 91.42283 93.52212 u konna noqogħdu nduru mal... mal... mal... mal-artal\n",
      "Dia_Spont02_13M_14M_spk_1_83 96.60381 98.94585 Konna nwaddbu l-affarijiet fuqu 'iġifieri.\n",
      "Dia_Spont02_13M_14M_spk_1_90 104.1549 105.3736 U darba konna qed nagħmlu\n",
      "Dia_Spont02_13M_14M_spk_1_92 105.768 106.3961 Iva.\n",
      "Dia_Spont02_13M_14M_spk_1_94 106.6692 107.4532 Iva iva.\n",
      "Dia_Spont02_13M_14M_spk_1_95 107.4532 108.5721 Darba ?żammew\n",
      "Dia_Spont02_13M_14M_spk_1_98 108.5721 109.5021 Kont\n",
      "Dia_Spont02_13M_14M_spk_1_104 113.3494 114.9361 Tal-Ingliż.\n",
      "Dia_Spont02_13M_14M_spk_1_116 124.8223 126.7229 Ii x'diżgrazzja\n",
      "Dia_Spont02_13M_14M_spk_1_117 126.7229 128.4465 x'qed tagħmlu hemm?\n",
      "Dia_Spont02_13M_14M_spk_1_120 128.4465 130.1248 ?Pappa ma' kantun?\n",
      "Dia_Spont02_13M_14M_spk_1_121 130.1248 131.4979 Toqogħdu tħammġuh?\n",
      "Dia_Spont02_13M_14M_spk_1_122 131.4979 133.4543 Ii misskom tistħu.\n",
      "Dia_Spont02_13M_14M_spk_1_125 133.4543 135.9179 Misskom tistħu ta' studenti l'intom hawnhekk\n",
      "Dia_Spont02_13M_14M_spk_1_126 135.9179 137.4 u tagħmlu daw' il-ħmerijiet.\n",
      "Dia_Spont02_13M_14M_spk_1_130 139.9745 141.26 għedna uu\n",
      "Dia_Spont02_13M_14M_spk_1_133 143.5042 144.2735 ee\n",
      "Dia_Spont02_13M_14M_spk_1_136 146.7039 149.2289 Le le qaltilna... qaltilna oqogħdu haw'\n",
      "Dia_Spont02_13M_14M_spk_1_137 149.2289 150.1979 ħa nġib\n",
      "Dia_Spont02_13M_14M_spk_1_138 150.1979 151.24 il-prinċipal.\n",
      "Dia_Spont02_13M_14M_spk_1_140 152.7817 154.4514 Telqet għall-prinċipal u tlaqna niġru.\n",
      "Dia_Spont02_13M_14M_spk_1_144 158.5614 160.8663 Ija issa naħseb stejjer oħra wisq\n",
      "Dia_Spont02_13M_14M_spk_1_145 160.8663 163.3058 kriminali biex ngħiduhom.\n",
      "Dia_Spont02_13M_14M_spk_1_163 179.9596 181.1282 Eżatt eża...\n",
      "Dia_Spont02_13M_14M_spk_1_175 195.2716 197.4822 Iv... le mhux xi kultant naħseb iktar\n",
      "Dia_Spont02_13M_14M_spk_1_177 197.4822 198.6851 iktar bil-kontra\n",
      "Dia_Spont02_13M_14M_spk_1_179 198.6851 200.3345 xi kultant mhux mingħajr vodka.\n",
      "Dia_Spont02_13M_14M_spk_1_180 200.3345 202.4167 Ajma\n",
      "Dia_Spont02_13M_14M_spk_1_184 206.0741 206.8388 Le le\n",
      "Dia_Spont02_13M_14M_spk_1_185 207.5529 208.6826 ma konniex\n",
      "Dia_Spont02_13M_14M_spk_1_186 208.6826 209.8268 &qax xejn.\n",
      "Dia_Spont02_13M_14M_spk_1_188 210.88 212.4993 Ee x'hemm iktar tad-daħq?\n",
      "Dia_Spont02_13M_14M_spk_1_190 215.5675 217.5298 Taz-zalzett taz-zalzett.\n",
      "Dia_Spont02_13M_14M_spk_1_192 217.5298 219.4939 Mela jien kont hemm\n",
      "Dia_Spont02_13M_14M_spk_1_193 219.4939 220.9838 jien kont... mela mela\n",
      "Dia_Spont02_13M_14M_spk_1_200 230.6003 231.9783 speċi\n",
      "Dia_Spont02_13M_14M_spk_1_201 231.9783 233.7706 ma nafx jekk għadhiex hekk bħalissa imma\n",
      "Dia_Spont02_13M_14M_spk_1_206 240.2974 241.5297 U qabadna l-ġuħ\n",
      "Dia_Spont02_13M_14M_spk_1_207 241.5297 243.0099 u għedna uwija ejja mmorru &nixxu\n",
      "Dia_Spont02_13M_14M_spk_1_208 243.0099 244.4025 &qas... &qas jiena le le\n",
      "Dia_Spont02_13M_14M_spk_1_209 244.4025 246.918 mar wieħed minna konna erbgħa\n",
      "Dia_Spont02_13M_14M_spk_1_210 246.918 248.2783 u mar wieħed minna.\n",
      "Dia_Spont02_13M_14M_spk_1_211 248.2783 251.2012 U *t-tlieta oħra jin... jin... inkluż jiena 'iġifieri\n",
      "Dia_Spont02_13M_14M_spk_1_213 251.2012 252.7329 tlaqna niġru warajh.\n",
      "Dia_Spont02_13M_14M_spk_1_221 262.5725 264.3643 ieħor minn dawn it-tlieta biex niftehmu\n",
      "Dia_Spont02_13M_14M_spk_1_223 264.3643 266.2876 ħaduhielu u tlaqna niġru iktar.\n",
      "Dia_Spont02_13M_14M_spk_1_229 272.3705 273.0578 kappella.\n",
      "Dia_Spont02_13M_14M_spk_1_232 275.3185 276.8571 naqra spazjuż.\n",
      "Dia_Spont02_13M_14M_spk_1_235 277.7973 280.4807 U+ dħalna niġru ġod... ġod... di... da...\n",
      "Dia_Spont02_13M_14M_spk_1_237 281.6736 282.7589 Kien hemm erbgħa\n",
      "Dia_Spont02_13M_14M_spk_1_240 283.7036 285.2081 Jiena\n",
      "Dia_Spont02_13M_14M_spk_1_244 290.8234 292.3249 T... t...\n",
      "Dia_Spont02_13M_14M_spk_1_247 293.3231 294.7794 Le ta' Kyle kien.\n",
      "Dia_Spont02_13M_14M_spk_1_249 294.7794 296.2645 Ta' Kyle kien.\n",
      "Dia_Spont02_13M_14M_spk_1_252 297.1725 299.2273 Ee ħeqq mela iva tiegħu kien.\n",
      "Dia_Spont02_13M_14M_spk_1_254 299.2273 300.9987 Mela mela jiena\n",
      "Dia_Spont02_13M_14M_spk_1_260 305.4818 307.4051 Imbagħad daħal ieħor warajna\n",
      "Dia_Spont02_13M_14M_spk_1_262 309.8647 310.9943 u qagħad jgħodd.\n",
      "Dia_Spont02_13M_14M_spk_1_271 325.7923 327.7599 ġUħmbagħad f'daqqa waħda\n",
      "Dia_Spont02_13M_14M_spk_1_273 327.7599 329.5 qagħad kwiet\n",
      "Dia_Spont02_13M_14M_spk_1_276 333.4176 334.2409 oqogħdu kwieti.\n",
      "Dia_Spont02_13M_14M_spk_1_277 334.2409 335.3073 U nisimgħu\n",
      "Dia_Spont02_13M_14M_spk_1_279 336.3581 338.098 X'qed tagħmlu hemm intom? X'qed tagħmlu hemm?\n",
      "Dia_Spont02_13M_14M_spk_1_281 338.6901 340.3554 U aħna\n",
      "Dia_Spont02_13M_14M_spk_1_282 340.3554 342.166 U... u daħal xi ħadd hekk u qalilna\n",
      "Dia_Spont02_13M_14M_spk_1_283 342.166 343.1836 oħorġu minn hemm ejja.\n",
      "Dia_Spont02_13M_14M_spk_1_285 344.9525 347.5299 U qalu... u qal... qal... għajjat\n",
      "Dia_Spont02_13M_14M_spk_1_288 349.1898 350.8843 u ħareġ l-ewwel wieħed.\n",
      "Dia_Spont02_13M_14M_spk_1_290 351.8027 352.7814 Imbagħad ħriġt jiena.\n",
      "Dia_Spont02_13M_14M_spk_1_291 353.4046 354.16 Hemm iktar?\n",
      "Dia_Spont02_13M_14M_spk_1_294 355.2473 358.3106 [U]mbagħad ħareġ l-ieħor\n",
      "Dia_Spont02_13M_14M_spk_1_296 358.3106 359.1286 Fl-uffiċċju tiegħi.\n",
      "Dia_Spont02_13M_14M_spk_1_298 360.2193 361.9108 Imxejna sal-uffiċċju tiegħu ija\n",
      "Dia_Spont02_13M_14M_spk_1_300 361.9108 363.464 erb... eżatt eżatt.\n",
      "Dia_Spont02_13M_14M_spk_1_302 364.6359 367.1766 Eżatt eżatt eżatt mhux erbgħa semmejt? Eżatt.\n",
      "Dia_Spont02_13M_14M_spk_1_304 367.8597 370.0751 Tlieta għedt ħa... ħriġna u l-ieħor ħareġ minn\n",
      "Dia_Spont02_13M_14M_spk_1_310 373.7926 375.5796 Imbagħad dħalna fl-uffiċċju\n",
      "Dia_Spont02_13M_14M_spk_1_311 375.5796 376.9714 u qalilna\n",
      "Dia_Spont02_13M_14M_spk_1_312 376.9714 378.4809 qalilna pastażi intom.\n",
      "Dia_Spont02_13M_14M_spk_1_324 390.2523 391.2067 Qallu\n",
      "Dia_Spont02_13M_14M_spk_1_325 391.9301 393.1084 Jien nagħmel li rrid haw'\n",
      "Dia_Spont02_13M_14M_spk_1_329 394.9712 395.6812 Tahielu\n",
      "Dia_Spont02_13M_14M_spk_1_331 397.4855 399.0198 u għamillu stilla\n",
      "Dia_Spont02_13M_14M_spk_1_332 399.0198 399.84 fuqha.\n",
      "Dia_Spont02_13M_14M_spk_1_334 401.7615 403.4075 Tkompli l-istorja jiġifieri\n",
      "Dia_Spont02_13M_14M_spk_1_336 404.5618 405.7334 u+\n",
      "Dia_Spont02_13M_14M_spk_1_337 405.7334 407.8806 għaddiet ifhem inżilna lura\n",
      "Dia_Spont02_13M_14M_spk_1_338 407.8806 410.8088 jien kont qed nidħaq &jiġieri kont qed immut bid-daħq jiena jien\n",
      "Dia_Spont02_13M_14M_spk_1_340 410.8088 412.1191 billi jgħajjat jgħajjat miegħi xi ħadd\n",
      "Dia_Spont02_13M_14M_spk_1_341 412.1191 413.1518 ma waqgħatx id-dinja.\n",
      "Dia_Spont02_13M_14M_spk_1_350 422.2483 424.6001 Inżilna morna fejnkom\n",
      "Dia_Spont02_13M_14M_spk_1_352 424.6001 426.6991 u għedna l-istorja x'ġara\n",
      "Dia_Spont02_13M_14M_spk_1_354 426.6991 429.3568 u t-tfajliet tagħna kulħadd kellu\n",
      "Dia_Spont02_13M_14M_spk_1_355 429.3568 432.1096 eħe le naħseb forsi Ethan kien għadu mhux ma' Marilyn?\n",
      "Dia_Spont02_13M_14M_spk_1_358 434.2372 436.0242 Imma uwija Gabby niftakarha\n",
      "Dia_Spont02_13M_14M_spk_1_359 436.0242 437.8745 ii issa x'ħa tagħmel?\n",
      "Dia_Spont02_13M_14M_spk_1_362 438.7467 440.0788 Issa x'ħa tagħmel issa jekk\n",
      "Dia_Spont02_13M_14M_spk_1_363 440.0788 442.8848 jirrabja miegħek x'ħa tagħmel? Jekk ikeċċuk mill-iskola.\n",
      "Dia_Spont02_13M_14M_spk_1_365 443.7058 444.7722 Għaddejja hekk.\n",
      "Dia_Spont02_13M_14M_spk_1_366 444.7722 446.4471 [U]mbagħad tlaqt waħdi imma uwija\n",
      "Dia_Spont02_13M_14M_spk_1_369 447.19 448.4516 dik ħaġo... dik storja oħra.\n",
      "Dia_Spont02_13M_14M_spk_1_372 451.3626 452.483 l... hekk ?loħdaw\n",
      "Dia_Spont02_13M_14M_spk_1_373 452.483 454.679 kwieti konna siġi... speċi dak iż-żmien ma kon... ma ko...\n",
      "Dia_Spont02_13M_14M_spk_1_374 454.679 457.0484 kwieti kwieti u mhux kesħin.\n",
      "Dia_Spont02_13M_14M_spk_1_376 458.5182 459.8368 Boloh mhux kesħin.\n",
      "Dia_Spont02_13M_14M_spk_1_378 459.8368 461.7893 Boloh ma k... ma kon... qatt ma konna\n",
      "Dia_Spont02_13M_14M_spk_1_379 461.7893 463.2846 kesħin dejjem boloh konna.\n",
      "Dia_Spont02_13M_14M_spk_1_381 464.2628 466.2056 Boloh konna boloh 'iġifieri.\n",
      "Dia_Spont02_13M_14M_spk_1_383 466.2056 467.5353 U kulħadd jinkwieta\n",
      "Dia_Spont02_13M_14M_spk_1_384 467.5353 469.1275 u jiena le tinkwetawx tinkwetawx.\n",
      "Dia_Spont02_13M_14M_spk_1_385 469.1275 471.3191 Għaddew xi [k]lett ijiem jew erbgħa ma nafx kemm għadda u\n",
      "Dia_Spont02_13M_14M_spk_1_386 471.3191 473.9793 u qaluln... u ċemplilna ille... il-viċi\n",
      "Dia_Spont02_13M_14M_spk_1_388 474.9644 476.5703 qalilna mmorru l-uffiċċju tiegħu.\n",
      "Dia_Spont02_13M_14M_spk_1_393 481.4782 483.7391 sal-uffiċċju dħalna fl-uffiċċju\n",
      "Dia_Spont02_13M_14M_spk_1_395 483.7391 485.2232 għamilna linja\n",
      "Dia_Spont02_13M_14M_spk_1_396 485.2232 486.7452 u ġie jkellimna.\n",
      "Dia_Spont02_13M_14M_spk_1_398 486.7452 488.365 X'għamiltu ee intom?\n",
      "Dia_Spont02_13M_14M_spk_1_399 488.365 491.0625 X'għamiltu? x'għamiltu? U jħares f'għajnejna hekk irrabjat.\n",
      "Dia_Spont02_13M_14M_spk_1_400 491.0625 494.009 Nippruvaw mħ... inżommu d-daħq lura 'iġifieri.\n",
      "Dia_Spont02_13M_14M_spk_1_402 496.4382 497.2611 *Dak mhux postijiet\n",
      "Dia_Spont02_13M_14M_spk_1_403 497.2611 499.0244 fej' toqogħdu tiċċajtaw fihom ta.\n",
      "Dia_Spont02_13M_14M_spk_1_404 499.0244 499.9301 Dak ikun hemm\n",
      "Dia_Spont02_13M_14M_spk_1_405 499.9301 501.6927 dak huwa post ta' serenità.\n",
      "Dia_Spont02_13M_14M_spk_1_408 504.8305 506.809 Post fej' għandek tieħu l-ħin tiegħek\n",
      "Dia_Spont02_13M_14M_spk_1_409 506.809 507.7759 tużah\n",
      "Dia_Spont02_13M_14M_spk_1_410 507.7759 509.2902 għas-sanità u daqshekk.\n",
      "Dia_Spont02_13M_14M_spk_1_414 514.6209 515.5996 Sewwa ftehmna?\n",
      "Dia_Spont02_13M_14M_spk_1_419 517.5102 519.2144 U+ ħsibna li ħa... ħa jibgħatna 'l hemm.\n",
      "Dia_Spont02_13M_14M_spk_1_420 519.2144 519.8481 [U]mbagħad\n",
      "Dia_Spont02_13M_14M_spk_1_421 519.8481 521.5494 qabad il-karta li kiteb\n",
      "Dia_Spont02_13M_14M_spk_1_422 521.5494 523.5259 il... l-għalliem l-ieħor li k... dana u sab\n",
      "Dia_Spont02_13M_14M_spk_1_425 525.4714 526.9468 U qallu inti\n",
      "Dia_Spont02_13M_14M_spk_1_429 530.2125 532.5594 Toqgħodx tidħaq inti.\n",
      "Dia_Spont02_13M_14M_spk_1_431 532.5594 533.7542 Qallu qallu\n",
      "Dia_Spont02_13M_14M_spk_1_433 536.5289 538.0205 ?X'jiġi qallu\n",
      "Dia_Spont02_13M_14M_spk_1_435 540.4979 541.242 Qallu\n",
      "Dia_Spont02_13M_14M_spk_1_436 541.242 542.4924 qallu\n",
      "Dia_Spont02_13M_14M_spk_1_437 542.4924 544.1674 toqgħodx titkessaħ magħna inti ta\n",
      "Dia_Spont02_13M_14M_spk_1_438 544.1674 545.0687 għax inkeċċuk 'l hemm.\n",
      "Dia_Spont02_13M_14M_spk_1_440 547.2352 549.251 qed nitkessaħ jiena m'għamilt xej'.\n",
      "Dia_Spont02_13M_14M_spk_1_441 549.251 550.4562 Qallu oqgħod kwiet.\n",
      "Dia_Spont02_13M_14M_spk_1_443 551.7081 553.5535 U hu ma jirrispondix 'iġifieri.\n",
      "Dia_Spont02_13M_14M_spk_1_445 555.6333 556.3344 Iv... iva\n",
      "Dia_Spont02_13M_14M_spk_1_446 556.3344 558.1254 U+wija mbagħad tlaqna 'l hemm u\n",
      "Dia_Spont02_13M_14M_spk_1_447 558.1254 559.5091 ifhem qatt m'erġajna\n",
      "Dia_Spont02_13M_14M_spk_1_449 561.8901 563.4579 u qgħadna nxengluh 'iġifieri.\n",
      "Dia_Spont02_13M_14M_spk_1_451 564.1378 565.3794 Minn daqshekk ħadmet\n",
      "Dia_Spont02_13M_14M_spk_1_452 565.3794 567.5928 lis... lis... l-istrateġija tal-viċi.\n",
      "Dia_Spont02_13M_14M_spk_1_454 567.5928 568.754 Għamilna affarijiet oħra imma.\n",
      "Dia_Spont02_13M_14M_spk_1_455 570.136 571.4965 Għamilna ħafna affarijiet oħra.\n",
      "int64\n"
     ]
    },
    {
     "name": "stderr",
     "output_type": "stream",
     "text": [
      "\n"
     ]
    }
   ],
   "source": [
    "# ST DF\n",
    "all_df = None\n",
    "for fn in os.listdir(st_audio_root)[:1]:\n",
    "    id = fn[:-4]\n",
    "    try:\n",
    "        en_df = load_df_from_tsv(os.path.join(en_root, id + '.tsv'))\n",
    "        mt_df = load_df_from_tsv(os.path.join(mt_root, id + '.tsv'), enc='utf-16')\n",
    "    except:\n",
    "        print('Skip ' + fn)\n",
    "        continue\n",
    "    if 'Speaker' in en_df.columns:\n",
    "        mt_en_df = pd.merge(en_df, mt_df, on=['Speaker', 'Start', 'End'])\n",
    "    else:\n",
    "        mt_en_df = pd.merge(en_df, mt_df, on=['Start', 'End'])\n",
    "\n",
    "    wav, rate = torchaudio.load(os.path.join(st_audio_root, id + '.wav'))\n",
    "    resampled_wav = torchaudio.functional.resample(wav, orig_freq=rate, new_freq=16000)\n",
    "\n",
    "    annotators = mt_en_df['Speaker'].unique().tolist()\n",
    "    if '2' in annotators[0]:\n",
    "        annotators = annotators[::-1]\n",
    "    print(fn, annotators)\n",
    "\n",
    "    if wav.size(0) == 2 and len(annotators) == 2:\n",
    "        for i in range(2):\n",
    "            cur_df = st_make_df(mt_en_df[mt_en_df['Speaker'] == annotators[i]], id, i, resampled_wav[i], 16000)\n",
    "            all_df = cur_df if all_df is None else pd.concat([all_df, cur_df], ignore_index=True)\n",
    "    elif wav.size()[0] == 1 and len(annotators) == 1:\n",
    "        cur_df = st_make_df(mt_en_df, id, 0, resampled_wav[0], 16000)\n",
    "        all_df = cur_df if all_df is None else pd.concat([all_df, cur_df], ignore_index=True)\n",
    "    elif wav.size()[0] == 2 and len(annotators) == 1:\n",
    "        cur_df = st_make_df(mt_en_df, id, 0, resampled_wav[0] + resampled_wav[1], 16000)\n",
    "        all_df = cur_df if all_df is None else pd.concat([all_df, cur_df], ignore_index=True)\n",
    "    \n",
    "    print(all_df['n_frames'].dtype)"
   ]
  },
  {
   "cell_type": "code",
   "execution_count": null,
   "metadata": {},
   "outputs": [],
   "source": [
    "st_iwslt_df = all_df.copy()"
   ]
  },
  {
   "cell_type": "code",
   "execution_count": 96,
   "metadata": {},
   "outputs": [
    {
     "name": "stdout",
     "output_type": "stream",
     "text": [
      "Dia_Spont02_13M_14M.wav ['Annotator SP 1 ', 'Annotator SP 2 ']\n"
     ]
    },
    {
     "name": "stderr",
     "output_type": "stream",
     "text": [
      "100%|██████████| 170/170 [00:00<00:00, 1835.54it/s]\n",
      "100%|██████████| 287/287 [00:00<00:00, 1946.97it/s]\n"
     ]
    },
    {
     "name": "stdout",
     "output_type": "stream",
     "text": [
      "int64\n",
      "Dia_Task_MMap03_13F_10M.wav ['Spk 1 Annotator ', 'Spk 2 Annotator ']\n"
     ]
    },
    {
     "name": "stderr",
     "output_type": "stream",
     "text": [
      "100%|██████████| 76/76 [00:00<00:00, 1189.12it/s]\n",
      "100%|██████████| 41/41 [00:00<00:00, 329.33it/s]"
     ]
    },
    {
     "name": "stdout",
     "output_type": "stream",
     "text": [
      "int64\n"
     ]
    },
    {
     "name": "stderr",
     "output_type": "stream",
     "text": [
      "\n"
     ]
    },
    {
     "name": "stdout",
     "output_type": "stream",
     "text": [
      "Dia_Task_Pics01_14F_03M.wav ['Spk 1 Annotator ', 'Spk 2 Annotator ']\n"
     ]
    },
    {
     "name": "stderr",
     "output_type": "stream",
     "text": [
      "100%|██████████| 500/500 [00:00<00:00, 3925.80it/s]\n",
      "100%|██████████| 450/450 [00:00<00:00, 28187.53it/s]"
     ]
    },
    {
     "name": "stdout",
     "output_type": "stream",
     "text": [
      "int64\n"
     ]
    },
    {
     "name": "stderr",
     "output_type": "stream",
     "text": [
      "\n"
     ]
    },
    {
     "name": "stdout",
     "output_type": "stream",
     "text": [
      "Dia_Task_Pics02_13F_10M.wav ['Spk 1 Annotator ', 'Spk 2 Annotator ']\n"
     ]
    },
    {
     "name": "stderr",
     "output_type": "stream",
     "text": [
      "100%|██████████| 85/85 [00:00<00:00, 1190.77it/s]\n",
      "100%|██████████| 81/81 [00:00<00:00, 1544.49it/s]"
     ]
    },
    {
     "name": "stdout",
     "output_type": "stream",
     "text": [
      "int64\n"
     ]
    },
    {
     "name": "stderr",
     "output_type": "stream",
     "text": [
      "\n"
     ]
    },
    {
     "name": "stdout",
     "output_type": "stream",
     "text": [
      "Dia_Task_Pics02_14F_03M.wav ['Spk 1 Annotator ', 'Spk 2 Annotator ', '2 ']\n",
      "int64\n",
      "Dia_Task_Pics03_01F_06M.wav ['Spk 1 Annotator ', 'Spk 2 Annotator ']\n"
     ]
    },
    {
     "name": "stderr",
     "output_type": "stream",
     "text": [
      "100%|██████████| 84/84 [00:00<00:00, 759.25it/s]\n",
      "100%|██████████| 97/97 [00:00<00:00, 20788.28it/s]"
     ]
    },
    {
     "name": "stdout",
     "output_type": "stream",
     "text": [
      "int64\n"
     ]
    },
    {
     "name": "stderr",
     "output_type": "stream",
     "text": [
      "\n"
     ]
    },
    {
     "name": "stdout",
     "output_type": "stream",
     "text": [
      "Mono_Discuss_Topic02_03M.wav ['Annotator ']\n"
     ]
    },
    {
     "name": "stderr",
     "output_type": "stream",
     "text": [
      "100%|██████████| 153/153 [00:00<00:00, 1226.29it/s]"
     ]
    },
    {
     "name": "stdout",
     "output_type": "stream",
     "text": [
      "int64\n"
     ]
    },
    {
     "name": "stderr",
     "output_type": "stream",
     "text": [
      "\n"
     ]
    },
    {
     "name": "stdout",
     "output_type": "stream",
     "text": [
      "Mono_Discuss_Topic03_07M.wav ['Annotator ']\n"
     ]
    },
    {
     "name": "stderr",
     "output_type": "stream",
     "text": [
      "100%|██████████| 81/81 [00:00<00:00, 1237.77it/s]\n"
     ]
    },
    {
     "name": "stdout",
     "output_type": "stream",
     "text": [
      "int64\n",
      "Mono_Discuss_Topic04_03M.wav ['Annotator ']\n"
     ]
    },
    {
     "name": "stderr",
     "output_type": "stream",
     "text": [
      "100%|██████████| 65/65 [00:00<00:00, 763.72it/s]\n"
     ]
    },
    {
     "name": "stdout",
     "output_type": "stream",
     "text": [
      "int64\n",
      "Mono_Discuss_Topic05_02F.wav ['SP1 ']\n"
     ]
    },
    {
     "name": "stderr",
     "output_type": "stream",
     "text": [
      "100%|██████████| 42/42 [00:00<00:00, 2181.61it/s]\n"
     ]
    },
    {
     "name": "stdout",
     "output_type": "stream",
     "text": [
      "int64\n",
      "Mono_Discuss_Topic06_01M.wav ['Annotator ']\n"
     ]
    },
    {
     "name": "stderr",
     "output_type": "stream",
     "text": [
      "100%|██████████| 115/115 [00:00<00:00, 949.87it/s]"
     ]
    },
    {
     "name": "stdout",
     "output_type": "stream",
     "text": [
      "int64\n",
      "Mono_Recipe_05M.wav ['1', 'SP1 ']\n",
      "int64\n"
     ]
    },
    {
     "name": "stderr",
     "output_type": "stream",
     "text": [
      "\n"
     ]
    },
    {
     "name": "stdout",
     "output_type": "stream",
     "text": [
      "Mono_Recipe_17F.wav ['SP1 ']\n"
     ]
    },
    {
     "name": "stderr",
     "output_type": "stream",
     "text": [
      "100%|██████████| 22/22 [00:00<00:00, 455.02it/s]\n"
     ]
    },
    {
     "name": "stdout",
     "output_type": "stream",
     "text": [
      "int64\n",
      "Mono_Recipe_22F.wav ['1', 'Annotator ']\n",
      "int64\n",
      "Mono_Retell_Vid02_21F.wav ['Annotator ']\n"
     ]
    },
    {
     "name": "stderr",
     "output_type": "stream",
     "text": [
      "100%|██████████| 48/48 [00:00<00:00, 594.52it/s]"
     ]
    },
    {
     "name": "stdout",
     "output_type": "stream",
     "text": [
      "int64\n"
     ]
    },
    {
     "name": "stderr",
     "output_type": "stream",
     "text": [
      "\n"
     ]
    },
    {
     "name": "stdout",
     "output_type": "stream",
     "text": [
      "Mono_Spont01_21F.wav ['Annotator ']\n"
     ]
    },
    {
     "name": "stderr",
     "output_type": "stream",
     "text": [
      "100%|██████████| 11/11 [00:00<00:00, 475.43it/s]"
     ]
    },
    {
     "name": "stdout",
     "output_type": "stream",
     "text": [
      "int64\n",
      "Skip Mono_Spont01_22F.wav\n"
     ]
    },
    {
     "name": "stderr",
     "output_type": "stream",
     "text": [
      "\n"
     ]
    },
    {
     "name": "stdout",
     "output_type": "stream",
     "text": [
      "Mono_Task_MMap02_13M.wav ['Annotator ']\n"
     ]
    },
    {
     "name": "stderr",
     "output_type": "stream",
     "text": [
      "100%|██████████| 174/174 [00:00<00:00, 1039.22it/s]"
     ]
    },
    {
     "name": "stdout",
     "output_type": "stream",
     "text": [
      "int64\n"
     ]
    },
    {
     "name": "stderr",
     "output_type": "stream",
     "text": [
      "\n"
     ]
    }
   ],
   "source": [
    "# ASR DF\n",
    "all_df = None\n",
    "for fn in os.listdir(st_audio_root):\n",
    "    id = fn[:-4]\n",
    "    try:\n",
    "        en_df = load_df_from_tsv(os.path.join(en_root, id + '.tsv'))\n",
    "        mt_df = load_df_from_tsv(os.path.join(mt_root, id + '.tsv'), enc='utf-16')\n",
    "    except:\n",
    "        print('Skip ' + fn)\n",
    "        continue\n",
    "    if 'Speaker' in en_df.columns:\n",
    "        mt_en_df = pd.merge(en_df, mt_df, on=['Speaker', 'Start', 'End'])\n",
    "    else:\n",
    "        mt_en_df = pd.merge(en_df, mt_df, on=['Start', 'End'])\n",
    "\n",
    "    wav, rate = torchaudio.load(os.path.join(st_audio_root, id + '.wav'))\n",
    "    resampled_wav = torchaudio.functional.resample(wav, orig_freq=rate, new_freq=16000)\n",
    "\n",
    "    annotators = mt_en_df['Speaker'].unique().tolist()\n",
    "    if '2' in annotators[0]:\n",
    "        annotators = annotators[::-1]\n",
    "    print(fn, annotators)\n",
    "\n",
    "    if wav.size(0) == 2 and len(annotators) == 2:\n",
    "        for i in range(2):\n",
    "            cur_df = asr_make_df(mt_en_df[mt_en_df['Speaker'] == annotators[i]], id, i, resampled_wav[i], 16000)\n",
    "            all_df = cur_df if all_df is None else pd.concat([all_df, cur_df], ignore_index=True)\n",
    "    elif wav.size()[0] == 1 and len(annotators) == 1:\n",
    "        cur_df = asr_make_df(mt_en_df, id, 0, resampled_wav[0], 16000)\n",
    "        all_df = cur_df if all_df is None else pd.concat([all_df, cur_df], ignore_index=True)\n",
    "    elif wav.size()[0] == 2 and len(annotators) == 1:\n",
    "        cur_df = asr_make_df(mt_en_df, id, 0, resampled_wav[0] + resampled_wav[1], 16000)\n",
    "        all_df = cur_df if all_df is None else pd.concat([all_df, cur_df], ignore_index=True)\n",
    "    \n",
    "    print(all_df['n_frames'].dtype)"
   ]
  },
  {
   "cell_type": "code",
   "execution_count": 69,
   "metadata": {},
   "outputs": [],
   "source": [
    "asr_iwslt_df = all_df.copy()"
   ]
  },
  {
   "cell_type": "code",
   "execution_count": 70,
   "metadata": {},
   "outputs": [],
   "source": [
    "split_ratio = [0.9, 0.1]\n",
    "n_sample = len(asr_iwslt_df)\n",
    "indices = list(range(n_sample))\n",
    "random.shuffle(indices)\n",
    "asr_iwslt_train_df = asr_iwslt_df.iloc[indices[:int(n_sample * split_ratio[0])]].sort_index().copy()\n",
    "asr_iwslt_dev_df = asr_iwslt_df.iloc[indices[int(n_sample * split_ratio[0]):]].sort_index().copy()"
   ]
  },
  {
   "cell_type": "code",
   "execution_count": 71,
   "metadata": {},
   "outputs": [],
   "source": [
    "save_df_to_tsv(asr_iwslt_train_df, os.path.join(mustc_root, 'train_asr_mt_iwslt.tsv'))\n",
    "save_df_to_tsv(asr_iwslt_dev_df, os.path.join(mustc_root, 'dev_asr_mt_iwslt.tsv'))"
   ]
  },
  {
   "cell_type": "code",
   "execution_count": null,
   "metadata": {},
   "outputs": [],
   "source": []
  },
  {
   "cell_type": "code",
   "execution_count": 28,
   "metadata": {},
   "outputs": [
    {
     "data": {
      "text/html": [
       "<div>\n",
       "<style scoped>\n",
       "    .dataframe tbody tr th:only-of-type {\n",
       "        vertical-align: middle;\n",
       "    }\n",
       "\n",
       "    .dataframe tbody tr th {\n",
       "        vertical-align: top;\n",
       "    }\n",
       "\n",
       "    .dataframe thead th {\n",
       "        text-align: right;\n",
       "    }\n",
       "</style>\n",
       "<table border=\"1\" class=\"dataframe\">\n",
       "  <thead>\n",
       "    <tr style=\"text-align: right;\">\n",
       "      <th></th>\n",
       "      <th>id</th>\n",
       "      <th>audio</th>\n",
       "      <th>n_frames</th>\n",
       "      <th>src_text</th>\n",
       "      <th>tgt_text</th>\n",
       "      <th>speaker</th>\n",
       "      <th>src_lang</th>\n",
       "      <th>tgt_lang</th>\n",
       "    </tr>\n",
       "  </thead>\n",
       "  <tbody>\n",
       "    <tr>\n",
       "      <th>0</th>\n",
       "      <td>Dia_Spont02_13M_14M_spk_0_0</td>\n",
       "      <td>mt-en/data/st/wav/Dia_Spont02_13M_14M_spk_0_0.wav</td>\n",
       "      <td>35813</td>\n",
       "      <td>Il-ħobż.</td>\n",
       "      <td>The bread.</td>\n",
       "      <td>Annotator SP 1</td>\n",
       "      <td>mt</td>\n",
       "      <td>en</td>\n",
       "    </tr>\n",
       "    <tr>\n",
       "      <th>1</th>\n",
       "      <td>Dia_Spont02_13M_14M_spk_0_14</td>\n",
       "      <td>mt-en/data/st/wav/Dia_Spont02_13M_14M_spk_0_14...</td>\n",
       "      <td>24385</td>\n",
       "      <td>M'għandniex inħalluh haw'.</td>\n",
       "      <td>We should not leave it here.</td>\n",
       "      <td>Annotator SP 1</td>\n",
       "      <td>mt</td>\n",
       "      <td>en</td>\n",
       "    </tr>\n",
       "    <tr>\n",
       "      <th>2</th>\n",
       "      <td>Dia_Spont02_13M_14M_spk_0_16</td>\n",
       "      <td>mt-en/data/st/wav/Dia_Spont02_13M_14M_spk_0_16...</td>\n",
       "      <td>11218</td>\n",
       "      <td>Eħe+</td>\n",
       "      <td>Ok</td>\n",
       "      <td>Annotator SP 1</td>\n",
       "      <td>mt</td>\n",
       "      <td>en</td>\n",
       "    </tr>\n",
       "    <tr>\n",
       "      <th>3</th>\n",
       "      <td>Dia_Spont02_13M_14M_spk_0_18</td>\n",
       "      <td>mt-en/data/st/wav/Dia_Spont02_13M_14M_spk_0_18...</td>\n",
       "      <td>21105</td>\n",
       "      <td>U jien ma ko...</td>\n",
       "      <td>And I didn't kno...</td>\n",
       "      <td>Annotator SP 1</td>\n",
       "      <td>mt</td>\n",
       "      <td>en</td>\n",
       "    </tr>\n",
       "    <tr>\n",
       "      <th>4</th>\n",
       "      <td>Dia_Spont02_13M_14M_spk_0_20</td>\n",
       "      <td>mt-en/data/st/wav/Dia_Spont02_13M_14M_spk_0_20...</td>\n",
       "      <td>17139</td>\n",
       "      <td>mhux kulħadd kien jaf.</td>\n",
       "      <td>not everyone knew.</td>\n",
       "      <td>Annotator SP 1</td>\n",
       "      <td>mt</td>\n",
       "      <td>en</td>\n",
       "    </tr>\n",
       "    <tr>\n",
       "      <th>...</th>\n",
       "      <td>...</td>\n",
       "      <td>...</td>\n",
       "      <td>...</td>\n",
       "      <td>...</td>\n",
       "      <td>...</td>\n",
       "      <td>...</td>\n",
       "      <td>...</td>\n",
       "      <td>...</td>\n",
       "    </tr>\n",
       "    <tr>\n",
       "      <th>1106</th>\n",
       "      <td>Mono_Task_MMap02_13M_spk_0_161</td>\n",
       "      <td>mt-en/data/st/wav/Mono_Task_MMap02_13M_spk_0_1...</td>\n",
       "      <td>71012</td>\n",
       "      <td>mela... mela dik &amp;għadna kif iffaċilitajna ix-...</td>\n",
       "      <td>so... so that's how we facilitated the work of...</td>\n",
       "      <td>Annotator</td>\n",
       "      <td>mt</td>\n",
       "      <td>en</td>\n",
       "    </tr>\n",
       "    <tr>\n",
       "      <th>1107</th>\n",
       "      <td>Mono_Task_MMap02_13M_spk_0_163</td>\n",
       "      <td>mt-en/data/st/wav/Mono_Task_MMap02_13M_spk_0_1...</td>\n",
       "      <td>124963</td>\n",
       "      <td>Kif ukoll imbagħad però realistikament jekk......</td>\n",
       "      <td>As well as then however realistically if... le...</td>\n",
       "      <td>Annotator</td>\n",
       "      <td>mt</td>\n",
       "      <td>en</td>\n",
       "    </tr>\n",
       "    <tr>\n",
       "      <th>1108</th>\n",
       "      <td>Mono_Task_MMap02_13M_spk_0_166</td>\n",
       "      <td>mt-en/data/st/wav/Mono_Task_MMap02_13M_spk_0_1...</td>\n",
       "      <td>78795</td>\n",
       "      <td>jekk dawn qegħdin jikkomunikaw kollha flimkien...</td>\n",
       "      <td>if they are all communicating together they wi...</td>\n",
       "      <td>Annotator</td>\n",
       "      <td>mt</td>\n",
       "      <td>en</td>\n",
       "    </tr>\n",
       "    <tr>\n",
       "      <th>1109</th>\n",
       "      <td>Mono_Task_MMap02_13M_spk_0_168</td>\n",
       "      <td>mt-en/data/st/wav/Mono_Task_MMap02_13M_spk_0_1...</td>\n",
       "      <td>115712</td>\n",
       "      <td>Imbagħad jekk ner... n... naqbdu dan l-argumen...</td>\n",
       "      <td>Then if we... n... We pick the argument of the...</td>\n",
       "      <td>Annotator</td>\n",
       "      <td>mt</td>\n",
       "      <td>en</td>\n",
       "    </tr>\n",
       "    <tr>\n",
       "      <th>1110</th>\n",
       "      <td>Mono_Task_MMap02_13M_spk_0_170</td>\n",
       "      <td>mt-en/data/st/wav/Mono_Task_MMap02_13M_spk_0_1...</td>\n",
       "      <td>108206</td>\n",
       "      <td>Seta' jgħidli li+ artisti forsi robotiċi se jm...</td>\n",
       "      <td>Could he tell me if+ maybe robotic artists wil...</td>\n",
       "      <td>Annotator</td>\n",
       "      <td>mt</td>\n",
       "      <td>en</td>\n",
       "    </tr>\n",
       "  </tbody>\n",
       "</table>\n",
       "<p>1111 rows × 8 columns</p>\n",
       "</div>"
      ],
      "text/plain": [
       "                                  id  \\\n",
       "0        Dia_Spont02_13M_14M_spk_0_0   \n",
       "1       Dia_Spont02_13M_14M_spk_0_14   \n",
       "2       Dia_Spont02_13M_14M_spk_0_16   \n",
       "3       Dia_Spont02_13M_14M_spk_0_18   \n",
       "4       Dia_Spont02_13M_14M_spk_0_20   \n",
       "...                              ...   \n",
       "1106  Mono_Task_MMap02_13M_spk_0_161   \n",
       "1107  Mono_Task_MMap02_13M_spk_0_163   \n",
       "1108  Mono_Task_MMap02_13M_spk_0_166   \n",
       "1109  Mono_Task_MMap02_13M_spk_0_168   \n",
       "1110  Mono_Task_MMap02_13M_spk_0_170   \n",
       "\n",
       "                                                  audio  n_frames  \\\n",
       "0     mt-en/data/st/wav/Dia_Spont02_13M_14M_spk_0_0.wav     35813   \n",
       "1     mt-en/data/st/wav/Dia_Spont02_13M_14M_spk_0_14...     24385   \n",
       "2     mt-en/data/st/wav/Dia_Spont02_13M_14M_spk_0_16...     11218   \n",
       "3     mt-en/data/st/wav/Dia_Spont02_13M_14M_spk_0_18...     21105   \n",
       "4     mt-en/data/st/wav/Dia_Spont02_13M_14M_spk_0_20...     17139   \n",
       "...                                                 ...       ...   \n",
       "1106  mt-en/data/st/wav/Mono_Task_MMap02_13M_spk_0_1...     71012   \n",
       "1107  mt-en/data/st/wav/Mono_Task_MMap02_13M_spk_0_1...    124963   \n",
       "1108  mt-en/data/st/wav/Mono_Task_MMap02_13M_spk_0_1...     78795   \n",
       "1109  mt-en/data/st/wav/Mono_Task_MMap02_13M_spk_0_1...    115712   \n",
       "1110  mt-en/data/st/wav/Mono_Task_MMap02_13M_spk_0_1...    108206   \n",
       "\n",
       "                                               src_text  \\\n",
       "0                                              Il-ħobż.   \n",
       "1                            M'għandniex inħalluh haw'.   \n",
       "2                                                  Eħe+   \n",
       "3                                       U jien ma ko...   \n",
       "4                                mhux kulħadd kien jaf.   \n",
       "...                                                 ...   \n",
       "1106  mela... mela dik &għadna kif iffaċilitajna ix-...   \n",
       "1107  Kif ukoll imbagħad però realistikament jekk......   \n",
       "1108  jekk dawn qegħdin jikkomunikaw kollha flimkien...   \n",
       "1109  Imbagħad jekk ner... n... naqbdu dan l-argumen...   \n",
       "1110  Seta' jgħidli li+ artisti forsi robotiċi se jm...   \n",
       "\n",
       "                                               tgt_text          speaker  \\\n",
       "0                                            The bread.  Annotator SP 1    \n",
       "1                          We should not leave it here.  Annotator SP 1    \n",
       "2                                                    Ok  Annotator SP 1    \n",
       "3                                   And I didn't kno...  Annotator SP 1    \n",
       "4                                    not everyone knew.  Annotator SP 1    \n",
       "...                                                 ...              ...   \n",
       "1106  so... so that's how we facilitated the work of...       Annotator    \n",
       "1107  As well as then however realistically if... le...       Annotator    \n",
       "1108  if they are all communicating together they wi...       Annotator    \n",
       "1109  Then if we... n... We pick the argument of the...       Annotator    \n",
       "1110  Could he tell me if+ maybe robotic artists wil...       Annotator    \n",
       "\n",
       "     src_lang tgt_lang  \n",
       "0          mt       en  \n",
       "1          mt       en  \n",
       "2          mt       en  \n",
       "3          mt       en  \n",
       "4          mt       en  \n",
       "...       ...      ...  \n",
       "1106       mt       en  \n",
       "1107       mt       en  \n",
       "1108       mt       en  \n",
       "1109       mt       en  \n",
       "1110       mt       en  \n",
       "\n",
       "[1111 rows x 8 columns]"
      ]
     },
     "execution_count": 28,
     "metadata": {},
     "output_type": "execute_result"
    }
   ],
   "source": [
    "st_iwslt_df"
   ]
  },
  {
   "cell_type": "code",
   "execution_count": 150,
   "metadata": {},
   "outputs": [],
   "source": [
    "split_ratio = [0.8, 0.1, 0.1]"
   ]
  },
  {
   "cell_type": "code",
   "execution_count": 158,
   "metadata": {},
   "outputs": [],
   "source": [
    "n_sample = len(st_iwslt_df)\n",
    "indices = list(range(n_sample))\n",
    "random.shuffle(indices)"
   ]
  },
  {
   "cell_type": "code",
   "execution_count": 162,
   "metadata": {},
   "outputs": [],
   "source": [
    "st_train_df = all_df.iloc[indices[:int(n_sample * split_ratio[0])]].sort_index().copy()\n",
    "st_dev_df = all_df.iloc[indices[int(n_sample * split_ratio[0]):int(n_sample * (split_ratio[0] + split_ratio[1]))]].sort_index().copy()\n",
    "st_test_df = all_df.iloc[indices[int(n_sample * (split_ratio[0] + split_ratio[1])):]].sort_index().copy()"
   ]
  },
  {
   "cell_type": "code",
   "execution_count": 170,
   "metadata": {},
   "outputs": [],
   "source": [
    "save_df_to_tsv(st_train_df, os.path.join(mustc_root, 'train_st_mt_en.tsv'))\n",
    "save_df_to_tsv(st_dev_df, os.path.join(mustc_root, 'dev_st_mt_en.tsv'))\n",
    "save_df_to_tsv(st_test_df, os.path.join(mustc_root, 'test_st_mt_en.tsv'))"
   ]
  },
  {
   "cell_type": "code",
   "execution_count": 17,
   "metadata": {},
   "outputs": [
    {
     "ename": "NameError",
     "evalue": "name 'st_train_df' is not defined",
     "output_type": "error",
     "traceback": [
      "\u001b[0;31m---------------------------------------------------------------------------\u001b[0m",
      "\u001b[0;31mNameError\u001b[0m                                 Traceback (most recent call last)",
      "\u001b[1;32m/home/siqiouyang/work/projects/ConST/ConST/prepare_data/mt_en.ipynb Cell 37\u001b[0m in \u001b[0;36m<cell line: 1>\u001b[0;34m()\u001b[0m\n\u001b[0;32m----> <a href='vscode-notebook-cell://ssh-remote%2Blei1/home/siqiouyang/work/projects/ConST/ConST/prepare_data/mt_en.ipynb#X51sdnNjb2RlLXJlbW90ZQ%3D%3D?line=0'>1</a>\u001b[0m st_train_df\n",
      "\u001b[0;31mNameError\u001b[0m: name 'st_train_df' is not defined"
     ]
    }
   ],
   "source": [
    "st_train_df"
   ]
  },
  {
   "cell_type": "code",
   "execution_count": null,
   "metadata": {},
   "outputs": [],
   "source": []
  },
  {
   "cell_type": "code",
   "execution_count": 39,
   "metadata": {},
   "outputs": [],
   "source": [
    "import torch\n",
    "model = torch.load('/mnt/data3/siqiouyang/runs/ConST/mt_en_ctc_ft/checkpoint_best.pt')"
   ]
  },
  {
   "cell_type": "code",
   "execution_count": 40,
   "metadata": {},
   "outputs": [
    {
     "data": {
      "text/plain": [
       "'transformer'"
      ]
     },
     "execution_count": 40,
     "metadata": {},
     "output_type": "execute_result"
    }
   ],
   "source": [
    "model['cfg']['model']._name"
   ]
  },
  {
   "cell_type": "code",
   "execution_count": 41,
   "metadata": {},
   "outputs": [],
   "source": [
    "model['cfg']['model']._name = 'xstnet_nllb_base'"
   ]
  },
  {
   "cell_type": "code",
   "execution_count": 42,
   "metadata": {},
   "outputs": [],
   "source": [
    "torch.save(model, '/mnt/data3/siqiouyang/runs/ConST/mt_en_ctc_ft/checkpoint_best.pt')"
   ]
  },
  {
   "cell_type": "code",
   "execution_count": null,
   "metadata": {},
   "outputs": [],
   "source": []
  }
 ],
 "metadata": {
  "kernelspec": {
   "display_name": "ConST",
   "language": "python",
   "name": "python3"
  },
  "language_info": {
   "codemirror_mode": {
    "name": "ipython",
    "version": 3
   },
   "file_extension": ".py",
   "mimetype": "text/x-python",
   "name": "python",
   "nbconvert_exporter": "python",
   "pygments_lexer": "ipython3",
   "version": "3.8.13"
  },
  "orig_nbformat": 4
 },
 "nbformat": 4,
 "nbformat_minor": 2
}
