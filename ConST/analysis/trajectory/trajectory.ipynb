{
 "cells": [
  {
   "cell_type": "code",
   "execution_count": 2,
   "metadata": {},
   "outputs": [],
   "source": [
    "import os\n",
    "import re\n",
    "import random\n",
    "from argparse import Namespace\n",
    "\n",
    "import torch as th\n",
    "import torch.nn as nn\n",
    "import torch.nn.functional as F\n",
    "from torch.utils.data import Dataset, DataLoader\n",
    "\n",
    "from tqdm.notebook import tqdm\n",
    "import torchaudio\n",
    "import numpy as np\n",
    "\n",
    "import matplotlib\n",
    "import matplotlib.pyplot as plt\n",
    "import pandas as pd\n",
    "import seaborn as sns\n",
    "import scipy\n",
    "\n",
    "import sacrebleu\n",
    "import sentencepiece\n",
    "\n",
    "from fairseq import utils\n",
    "from fairseq.data import Dictionary, data_utils as fairseq_data_utils\n",
    "from fairseq.models.speech_to_text.xstnet import XSTNet\n",
    "from fairseq.data.audio.speech_text_triple_align_dataset import (\n",
    "    SpeechTextTripleAlignDataset\n",
    ")\n",
    "from fairseq.data.audio.speech_to_text_dataset import get_features_or_waveform, _collate_frames\n",
    "from ConST.prepare_data.data_utils import load_df_from_tsv, save_df_to_tsv\n",
    "from fairseq.checkpoint_utils import load_checkpoint_to_cpu, save_state, torch_persistent_save"
   ]
  },
  {
   "cell_type": "code",
   "execution_count": 3,
   "metadata": {},
   "outputs": [],
   "source": [
    "device = 'cuda:7'"
   ]
  },
  {
   "cell_type": "code",
   "execution_count": 4,
   "metadata": {},
   "outputs": [],
   "source": [
    "tag2dtws = {}"
   ]
  },
  {
   "cell_type": "markdown",
   "metadata": {},
   "source": [
    "# Load Checkpoints"
   ]
  },
  {
   "cell_type": "code",
   "execution_count": 5,
   "metadata": {},
   "outputs": [],
   "source": [
    "args = Namespace()\n",
    "task = Namespace()\n",
    "\n",
    "args.w2v2_model_path = '/mnt/data/siqiouyang/runs/mST/pretrained/wav2vec_small.pt'\n",
    "\n",
    "args.max_audio_positions = 600000\n",
    "args.max_source_positions = 1024\n",
    "args.max_target_positions = 1024\n",
    "args.max_audio_tokens = 1000000\n",
    "args.max_text_tokens = 2000\n",
    "args.max_tokens = 1000000\n",
    "args.max_tokens_valid = 2000000\n",
    "\n",
    "tgt_dict = Dictionary.load('/mnt/data/siqiouyang/datasets/must-c-v1.0/spm_unigram10000_st_de.txt')\n",
    "task.target_dictionary = tgt_dict\n",
    "\n",
    "model = XSTNet.build_model(args, task)"
   ]
  },
  {
   "cell_type": "code",
   "execution_count": 6,
   "metadata": {},
   "outputs": [],
   "source": [
    "tags = [\n",
    "    # 'main_ende_token',\n",
    "    # 'main_ende_sent',\n",
    "    # 'ablation_data_efficiency_10h_sent',\n",
    "    'ablation_data_efficiency_10h_token',\n",
    "    # 'ablation_data_efficiency_10h_token_deep',\n",
    "    'ablation_data_efficiency_10h_token_triplet_only',\n",
    "]"
   ]
  },
  {
   "cell_type": "code",
   "execution_count": 7,
   "metadata": {},
   "outputs": [],
   "source": [
    "def dtw(a, b):\n",
    "    n = a.size(0)\n",
    "    m = b.size(0)\n",
    "\n",
    "    f = th.zeros(n, m)\n",
    "\n",
    "    for i in range(n):\n",
    "        for j in range(m):\n",
    "            # d = ((a[i] - b[j]) ** 2).sum() ** 0.5\n",
    "            d = th.acos(F.cosine_similarity(a[i], b[j], dim=0))\n",
    "\n",
    "            rest = 1e9\n",
    "            if i > 0:\n",
    "                rest = min(rest, f[i - 1, j])\n",
    "            if j > 0:\n",
    "                rest = min(rest, f[i, j - 1])\n",
    "            if i > 0 and j > 0:\n",
    "                rest = min(rest, f[i - 1, j - 1])\n",
    "            if i == 0 and j == 0:\n",
    "                rest = 0\n",
    "\n",
    "            f[i, j] = d + rest\n",
    "    \n",
    "    return f[n - 1, m - 1] / max(n, m)"
   ]
  },
  {
   "cell_type": "code",
   "execution_count": 8,
   "metadata": {},
   "outputs": [
    {
     "data": {
      "application/vnd.jupyter.widget-view+json": {
       "model_id": "88135b68c5084a09a33be67f1df43d39",
       "version_major": 2,
       "version_minor": 0
      },
      "text/plain": [
       "  0%|          | 0/2587 [00:00<?, ?it/s]"
      ]
     },
     "metadata": {},
     "output_type": "display_data"
    },
    {
     "data": {
      "application/vnd.jupyter.widget-view+json": {
       "model_id": "95f77bceed6b4293a28406cc74454d78",
       "version_major": 2,
       "version_minor": 0
      },
      "text/plain": [
       "  0%|          | 0/2587 [00:00<?, ?it/s]"
      ]
     },
     "metadata": {},
     "output_type": "display_data"
    }
   ],
   "source": [
    "for tag in tags:\n",
    "    ckpt_path = '/mnt/data/siqiouyang/runs/ConST/{}/checkpoint_best.pt'.format(tag)\n",
    "    ckpt = load_checkpoint_to_cpu(ckpt_path)\n",
    "    model.load_state_dict(ckpt['model'], strict=False)\n",
    "    model = model.to(device)\n",
    "    # Compute Feature\n",
    "    spm = sentencepiece.SentencePieceProcessor()\n",
    "    spm.Load('/mnt/data/siqiouyang/datasets/must-c-v1.0/spm_unigram10000_st_de.model')\n",
    "    df = load_df_from_tsv('/mnt/data/siqiouyang/datasets/must-c-v1.0/tst-COMMON_st_de.tsv')\n",
    "    \n",
    "    dtws = []\n",
    "    for idx in tqdm(range(len(df))):\n",
    "        align_path = '/mnt/data/siqiouyang/datasets/must-c-v1.0/en-de/data/tst-COMMON/align/{}.pt'.format(df['id'][idx])\n",
    "        if os.path.exists(align_path):\n",
    "            audio_path = os.path.join('/mnt/data/siqiouyang/datasets/must-c-v1.0', df['audio'][idx])\n",
    "            audio = get_features_or_waveform(audio_path, need_waveform=True)\n",
    "            tokenized =  \" \".join(spm.EncodeAsPieces(df['src_text'][idx]))\n",
    "            src_text = tgt_dict.encode_line(\n",
    "                tokenized, add_if_not_exist=False, append_eos=True\n",
    "            ).long()\n",
    "            lang_tag = SpeechTextTripleAlignDataset.LANG_TAG_TEMPLATE.format(df['src_lang'][idx])\n",
    "            lang_tag_idx = tgt_dict.index(lang_tag)\n",
    "            src_text = th.cat((th.LongTensor([lang_tag_idx]), src_text), 0).unsqueeze(0)\n",
    "            n_frame = th.LongTensor([audio.size(1)])\n",
    "            src_length = th.LongTensor([src_text.size(1)])\n",
    "\n",
    "            with th.no_grad():\n",
    "                st_encoder_out = model.encoder(audio.to(device), n_frame.to(device))\n",
    "                st_x = st_encoder_out.encoder_out.squeeze(1).cpu()\n",
    "                mt_encoder_out = model.encoder(src_text.to(device), src_length.to(device), is_text_input=True)\n",
    "                mt_x = mt_encoder_out.encoder_out.squeeze(1).cpu()\n",
    "\n",
    "            seg, itv = th.load(align_path)\n",
    "            seg = [(s[0] + 1, s[1] + 1) for s in seg]\n",
    "            itv = (itv * st_encoder_out.encoder_padding_mask.size(1)).astype(int)\n",
    "            st_f = []\n",
    "            mt_f = []\n",
    "            for (t_l, t_r), (s_l, s_r) in zip(seg, itv):\n",
    "                st_f.append(st_x[s_l : s_r + 1].mean(dim=0))\n",
    "                mt_f.append(mt_x[t_l : t_r + 1].mean(dim=0))\n",
    "            st_f = th.stack(st_f, dim=0)\n",
    "            mt_f = th.stack(mt_f, dim=0)\n",
    "\n",
    "            dtws.append(dtw(st_x, mt_f).item())\n",
    "    tag2dtws[tag] = dtws"
   ]
  },
  {
   "cell_type": "code",
   "execution_count": 12,
   "metadata": {},
   "outputs": [],
   "source": [
    "plot_df = pd.DataFrame(columns=['dtws', 'tag'])\n",
    "plot_df['dtws'] = tag2dtws['ablation_data_efficiency_10h_token'] + tag2dtws['ablation_data_efficiency_10h_token_triplet_only']\n",
    "plot_df['tag'] = ['token_all'] * len(tag2dtws['ablation_data_efficiency_10h_token']) + ['token_st_only'] * len(tag2dtws['ablation_data_efficiency_10h_token_triplet_only'])"
   ]
  },
  {
   "cell_type": "code",
   "execution_count": 13,
   "metadata": {},
   "outputs": [
    {
     "data": {
      "text/plain": [
       "<seaborn.axisgrid.FacetGrid at 0x7ff961eee640>"
      ]
     },
     "execution_count": 13,
     "metadata": {},
     "output_type": "execute_result"
    },
    {
     "data": {
      "image/png": "[encoded data removed]",
      "text/plain": [
       "<Figure size 464x360 with 1 Axes>"
      ]
     },
     "metadata": {
      "needs_background": "light"
     },
     "output_type": "display_data"
    }
   ],
   "source": [
    "sns.displot(plot_df, x='dtws', hue='tag', binrange=(0.8, 1.6), bins=40)"
   ]
  },
  {
   "cell_type": "markdown",
   "metadata": {},
   "source": [
    "# BLEU "
   ]
  },
  {
   "cell_type": "code",
   "execution_count": 10,
   "metadata": {},
   "outputs": [],
   "source": [
    "def extract(path):\n",
    "    refs = []\n",
    "    gens = []\n",
    "    with open(path, 'r') as r:\n",
    "        for line in r.readlines():\n",
    "            line = line.strip()\n",
    "            parts = line.split('\\t')\n",
    "            if line.startswith('T-'):\n",
    "                refs.append(parts[1])\n",
    "            elif line.startswith('D-'):\n",
    "                gens.append(parts[2])\n",
    "    return refs, gens"
   ]
  },
  {
   "cell_type": "code",
   "execution_count": 11,
   "metadata": {},
   "outputs": [],
   "source": [
    "refs, token_gens = extract('../generation/{}/generate-tst-COMMON_st_de.txt'.format('ablation_data_efficiency_10h_token_deep'))\n",
    "refs, sent_gens = extract('../generation/{}/generate-tst-COMMON_st_de.txt'.format('ablation_data_efficiency_10h_sent'))"
   ]
  },
  {
   "cell_type": "code",
   "execution_count": 12,
   "metadata": {},
   "outputs": [],
   "source": [
    "token_bleu = {}\n",
    "for ref, gen in zip(refs, token_gens):\n",
    "    token_bleu[ref] = sacrebleu.sentence_bleu(gen, [ref]).score\n",
    "sent_bleu = {}\n",
    "for ref, gen in zip(refs, sent_gens):\n",
    "    sent_bleu[ref] = sacrebleu.sentence_bleu(gen, [ref]).score"
   ]
  },
  {
   "cell_type": "code",
   "execution_count": 27,
   "metadata": {},
   "outputs": [],
   "source": [
    "pairs = []\n",
    "i = 0\n",
    "for idx in range(len(df)):\n",
    "    align_path = '/mnt/data/siqiouyang/datasets/must-c-v1.0/en-de/data/tst-COMMON/align/{}.pt'.format(df['id'][idx])\n",
    "    if os.path.exists(align_path):\n",
    "        if df['tgt_text'][idx] in token_bleu:\n",
    "            bleu_diff = token_bleu[df['tgt_text'][idx]] - sent_bleu[df['tgt_text'][idx]]\n",
    "            pairs.append([bleu_diff, tag2dtws['ablation_data_efficiency_10h_sent'][i] - tag2dtws['ablation_data_efficiency_10h_token_deep'][i]])\n",
    "        i += 1"
   ]
  },
  {
   "cell_type": "code",
   "execution_count": 29,
   "metadata": {},
   "outputs": [],
   "source": [
    "pairs = np.array(pairs)"
   ]
  },
  {
   "cell_type": "code",
   "execution_count": 30,
   "metadata": {},
   "outputs": [],
   "source": [
    "bleu_diff = pairs[:, 0]\n",
    "dtw_diff = pairs[:, 1]"
   ]
  },
  {
   "cell_type": "code",
   "execution_count": 33,
   "metadata": {},
   "outputs": [
    {
     "data": {
      "text/plain": [
       "(0.042200835379395785, 0.03497404186858089)"
      ]
     },
     "execution_count": 33,
     "metadata": {},
     "output_type": "execute_result"
    }
   ],
   "source": [
    "scipy.stats.pearsonr(bleu_diff, dtw_diff)"
   ]
  },
  {
   "cell_type": "code",
   "execution_count": 52,
   "metadata": {},
   "outputs": [
    {
     "data": {
      "text/plain": [
       "(0.6279535442531037, 0.8054846938775511)"
      ]
     },
     "execution_count": 52,
     "metadata": {},
     "output_type": "execute_result"
    }
   ],
   "source": [
    "(bleu_diff >= 0).sum() / bleu_diff.shape[0], ((bleu_diff >= 0) & (dtw_diff >= 0)).sum() / (bleu_diff >= 0).sum()"
   ]
  },
  {
   "cell_type": "code",
   "execution_count": 54,
   "metadata": {},
   "outputs": [
    {
     "data": {
      "text/plain": [
       "(0.37204645574689627, 0.7761033369214209)"
      ]
     },
     "execution_count": 54,
     "metadata": {},
     "output_type": "execute_result"
    }
   ],
   "source": [
    "(bleu_diff < 0).sum() / bleu_diff.shape[0], (( bleu_diff < 0) & (dtw_diff >= 0)).sum() / (bleu_diff < 0).sum()"
   ]
  },
  {
   "cell_type": "code",
   "execution_count": 47,
   "metadata": {},
   "outputs": [
    {
     "data": {
      "text/plain": [
       "<seaborn.axisgrid.FacetGrid at 0x7f8f4767f550>"
      ]
     },
     "execution_count": 47,
     "metadata": {},
     "output_type": "execute_result"
    },
    {
     "data": {
      "image/png": "[encoded data removed]",
      "text/plain": [
       "<Figure size 360x360 with 1 Axes>"
      ]
     },
     "metadata": {
      "needs_background": "light"
     },
     "output_type": "display_data"
    }
   ],
   "source": [
    "sns.displot(dtw_diff)"
   ]
  },
  {
   "cell_type": "code",
   "execution_count": null,
   "metadata": {},
   "outputs": [],
   "source": []
  }
 ],
 "metadata": {
  "kernelspec": {
   "display_name": "Python 3.8.13 ('ConST')",
   "language": "python",
   "name": "python3"
  },
  "language_info": {
   "codemirror_mode": {
    "name": "ipython",
    "version": 3
   },
   "file_extension": ".py",
   "mimetype": "text/x-python",
   "name": "python",
   "nbconvert_exporter": "python",
   "pygments_lexer": "ipython3",
   "version": "3.8.13"
  },
  "orig_nbformat": 4,
  "vscode": {
   "interpreter": {
    "hash": "b19e2bae1ea557e2a235ed68e1ca6fc95eb26397d1b9313344955976d03228b1"
   }
  }
 },
 "nbformat": 4,
 "nbformat_minor": 2
}
