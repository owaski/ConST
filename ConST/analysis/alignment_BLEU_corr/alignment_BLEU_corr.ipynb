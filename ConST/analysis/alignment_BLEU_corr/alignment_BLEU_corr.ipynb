{
 "cells": [
  {
   "cell_type": "code",
   "execution_count": 156,
   "metadata": {},
   "outputs": [],
   "source": [
    "import os\n",
    "import re\n",
    "import random\n",
    "from argparse import Namespace\n",
    "\n",
    "import torch as th\n",
    "import torch.nn as nn\n",
    "import torch.nn.functional as F\n",
    "from torch.utils.data import Dataset, DataLoader\n",
    "\n",
    "from tqdm.notebook import tqdm\n",
    "import torchaudio\n",
    "import numpy as np\n",
    "\n",
    "import matplotlib\n",
    "import matplotlib.pyplot as plt\n",
    "import pandas as pd\n",
    "import seaborn as sns\n",
    "import scipy\n",
    "\n",
    "import sacrebleu\n",
    "import sentencepiece\n",
    "\n",
    "from fairseq import utils\n",
    "from fairseq.data import Dictionary, data_utils as fairseq_data_utils\n",
    "from fairseq.models.speech_to_text.xstnet import XSTNet\n",
    "from fairseq.data.audio.speech_text_triple_align_dataset import (\n",
    "    SpeechTextTripleAlignDataset\n",
    ")\n",
    "from fairseq.data.audio.speech_to_text_dataset import get_features_or_waveform, _collate_frames\n",
    "from ConST.prepare_data.data_utils import load_df_from_tsv, save_df_to_tsv\n",
    "from fairseq.checkpoint_utils import load_checkpoint_to_cpu, save_state, torch_persistent_save"
   ]
  },
  {
   "cell_type": "code",
   "execution_count": 4,
   "metadata": {},
   "outputs": [],
   "source": [
    "device = 'cuda:4'"
   ]
  },
  {
   "cell_type": "markdown",
   "metadata": {},
   "source": [
    "# Load Checkpoints"
   ]
  },
  {
   "cell_type": "code",
   "execution_count": 8,
   "metadata": {},
   "outputs": [],
   "source": [
    "args = Namespace()\n",
    "task = Namespace()\n",
    "\n",
    "args.max_audio_positions = 600000\n",
    "args.max_source_positions = 1024\n",
    "args.max_target_positions = 1024\n",
    "args.max_audio_tokens = 1000000\n",
    "args.max_text_tokens = 2000\n",
    "args.max_tokens = 1000000\n",
    "args.max_tokens_valid = 2000000\n",
    "\n",
    "tgt_dict = Dictionary.load('/mnt/data/siqiouyang/datasets/must-c-v1.0/spm_unigram10000_st_de.txt')\n",
    "task.target_dictionary = tgt_dict\n",
    "\n",
    "model = XSTNet.build_model(args, task)"
   ]
  },
  {
   "cell_type": "code",
   "execution_count": 190,
   "metadata": {},
   "outputs": [],
   "source": [
    "tag = 'main_ende_token'"
   ]
  },
  {
   "cell_type": "code",
   "execution_count": 191,
   "metadata": {},
   "outputs": [],
   "source": [
    "ckpt_path = '/mnt/data/siqiouyang/runs/ConST/{}/checkpoint_best.pt'.format(tag)\n",
    "ckpt = load_checkpoint_to_cpu(ckpt_path)"
   ]
  },
  {
   "cell_type": "code",
   "execution_count": 192,
   "metadata": {},
   "outputs": [],
   "source": [
    "model.load_state_dict(ckpt['model'])\n",
    "model = model.to(device)"
   ]
  },
  {
   "cell_type": "markdown",
   "metadata": {},
   "source": [
    "# ST/MT Generation"
   ]
  },
  {
   "cell_type": "code",
   "execution_count": 193,
   "metadata": {},
   "outputs": [],
   "source": [
    "def extract(path):\n",
    "    refs = []\n",
    "    gens = []\n",
    "    with open(path, 'r') as r:\n",
    "        for line in r.readlines():\n",
    "            line = line.strip()\n",
    "            parts = line.split('\\t')\n",
    "            if line.startswith('T-'):\n",
    "                refs.append(parts[1])\n",
    "            elif line.startswith('D-'):\n",
    "                gens.append(parts[2])\n",
    "    return refs, gens"
   ]
  },
  {
   "cell_type": "code",
   "execution_count": 194,
   "metadata": {},
   "outputs": [],
   "source": [
    "st_refs, st_gens = extract('../generation/{}/generate-tst-COMMON_st_de.txt'.format(tag))\n",
    "mt_refs, mt_gens = extract('../generation/{}_mt/generate-tst-COMMON_st_de.txt'.format(tag))"
   ]
  },
  {
   "cell_type": "code",
   "execution_count": 195,
   "metadata": {},
   "outputs": [],
   "source": [
    "gens = {}\n",
    "for st_ref, st_gen in zip(st_refs, st_gens):\n",
    "    if st_ref not in gens:\n",
    "        gens[st_ref] = {}\n",
    "    gens[st_ref]['st'] = st_gen\n",
    "for mt_ref, mt_gen in zip(mt_refs, mt_gens):\n",
    "    gens[mt_ref]['mt'] = mt_gen"
   ]
  },
  {
   "cell_type": "markdown",
   "metadata": {},
   "source": [
    "# Obtain BLEU"
   ]
  },
  {
   "cell_type": "code",
   "execution_count": 196,
   "metadata": {},
   "outputs": [],
   "source": [
    "st_bleu = {}\n",
    "mt_bleu = {}\n",
    "for ref, gen in gens.items():\n",
    "    st_bleu[ref] = sacrebleu.sentence_bleu(gen['st'], [ref]).score\n",
    "    mt_bleu[ref] = sacrebleu.sentence_bleu(gen['mt'], [ref]).score"
   ]
  },
  {
   "cell_type": "markdown",
   "metadata": {},
   "source": [
    "# Compute Feature"
   ]
  },
  {
   "cell_type": "code",
   "execution_count": 197,
   "metadata": {},
   "outputs": [
    {
     "data": {
      "text/plain": [
       "True"
      ]
     },
     "execution_count": 197,
     "metadata": {},
     "output_type": "execute_result"
    }
   ],
   "source": [
    "spm = sentencepiece.SentencePieceProcessor()\n",
    "spm.Load('/mnt/data/siqiouyang/datasets/must-c-v1.0/spm_unigram10000_st_de.model')"
   ]
  },
  {
   "cell_type": "code",
   "execution_count": 198,
   "metadata": {},
   "outputs": [],
   "source": [
    "df = load_df_from_tsv('/mnt/data/siqiouyang/datasets/must-c-v1.0/tst-COMMON_st_de.tsv')"
   ]
  },
  {
   "cell_type": "code",
   "execution_count": 199,
   "metadata": {},
   "outputs": [],
   "source": [
    "def compute_sim_score(idx):\n",
    "    align_path = '/mnt/data/siqiouyang/datasets/must-c-v1.0/en-de/data/tst-COMMON/align/{}.pt'.format(df['id'][idx])\n",
    "    if not os.path.exists(align_path):\n",
    "        return None\n",
    "\n",
    "    audio_path = os.path.join('/mnt/data/siqiouyang/datasets/must-c-v1.0', df['audio'][idx])\n",
    "    audio = get_features_or_waveform(audio_path, need_waveform=True)\n",
    "    tokenized =  \" \".join(spm.EncodeAsPieces(df['src_text'][idx]))\n",
    "    src_text = tgt_dict.encode_line(\n",
    "        tokenized, add_if_not_exist=False, append_eos=True\n",
    "    ).long()\n",
    "    lang_tag = SpeechTextTripleAlignDataset.LANG_TAG_TEMPLATE.format(df['src_lang'][idx])\n",
    "    lang_tag_idx = tgt_dict.index(lang_tag)\n",
    "    src_text = th.cat((th.LongTensor([lang_tag_idx]), src_text), 0).unsqueeze(0)\n",
    "    n_frame = th.LongTensor([audio.size(1)])\n",
    "    src_length = th.LongTensor([src_text.size(1)])\n",
    "\n",
    "    with th.no_grad():\n",
    "        st_encoder_out = model.encoder(audio.to(device), n_frame.to(device))\n",
    "        st_x = st_encoder_out.encoder_out.squeeze(1).cpu()\n",
    "        mt_encoder_out = model.encoder(src_text.to(device), src_length.to(device), is_text_input=True)\n",
    "        mt_x = mt_encoder_out.encoder_out.squeeze(1).cpu()\n",
    "\n",
    "    seg, itv = th.load(align_path)\n",
    "    seg = [(s[0] + 1, s[1] + 1) for s in seg]\n",
    "    itv = (itv * st_encoder_out.encoder_padding_mask.size(1)).astype(int)\n",
    "    st_f = []\n",
    "    mt_f = []\n",
    "    for (t_l, t_r), (s_l, s_r) in zip(seg, itv):\n",
    "        st_f.append(st_x[s_l : s_r + 1].mean(dim=0))\n",
    "        mt_f.append(mt_x[t_l : t_r + 1].mean(dim=0))\n",
    "    st_f = th.stack(st_f, dim=0)\n",
    "    mt_f = th.stack(mt_f, dim=0)\n",
    "    # good_sim_matrix = F.cosine_similarity(\n",
    "    #     mt_x.unsqueeze(1),\n",
    "    #     st_x.unsqueeze(0),\n",
    "    #     dim=-1\n",
    "    # )\n",
    "    # plt.figure(dpi=200, figsize=(10, 7))\n",
    "    # sns.heatmap(good_sim_matrix.detach().cpu()[1:-1], yticklabels=[tgt_dict.symbols[s] for s in src_text[0]][1:-1], vmin=0, vmax=1, )\n",
    "    sim_score = F.cosine_similarity(st_f, mt_f).min().item()\n",
    "    return sim_score"
   ]
  },
  {
   "cell_type": "code",
   "execution_count": 200,
   "metadata": {},
   "outputs": [
    {
     "data": {
      "application/vnd.jupyter.widget-view+json": {
       "model_id": "2efa686cd10d4b26b0c9140ee3ef430f",
       "version_major": 2,
       "version_minor": 0
      },
      "text/plain": [
       "  0%|          | 0/2587 [00:00<?, ?it/s]"
      ]
     },
     "metadata": {},
     "output_type": "display_data"
    }
   ],
   "source": [
    "sim_scores = [compute_sim_score(idx) for idx in tqdm(range(len(df)))]"
   ]
  },
  {
   "cell_type": "code",
   "execution_count": 201,
   "metadata": {},
   "outputs": [],
   "source": [
    "filtered_scores = []\n",
    "filtered_diffs = []\n",
    "for idx, s in enumerate(sim_scores):\n",
    "    if s is not None and df['tgt_text'][idx] in st_bleu:\n",
    "        filtered_scores.append(s)\n",
    "        filtered_diffs.append(st_bleu[df['tgt_text'][idx]] - mt_bleu[df['tgt_text'][idx]])"
   ]
  },
  {
   "cell_type": "code",
   "execution_count": 202,
   "metadata": {},
   "outputs": [],
   "source": [
    "scores = np.array(filtered_scores)\n",
    "diffs = np.array(filtered_diffs)"
   ]
  },
  {
   "cell_type": "code",
   "execution_count": 203,
   "metadata": {},
   "outputs": [],
   "source": [
    "np.save('{}.npy'.format(tag), [scores, diffs])"
   ]
  },
  {
   "cell_type": "markdown",
   "metadata": {},
   "source": [
    "# Compare Results"
   ]
  },
  {
   "cell_type": "code",
   "execution_count": 204,
   "metadata": {},
   "outputs": [],
   "source": [
    "token_scores, token_diffs = np.load('main_ende_token.npy')\n",
    "sent_scores, sent_diffs = np.load('main_ende_sent.npy')"
   ]
  },
  {
   "cell_type": "code",
   "execution_count": 205,
   "metadata": {},
   "outputs": [
    {
     "data": {
      "text/plain": [
       "<matplotlib.legend.Legend at 0x7f9ea15e8fa0>"
      ]
     },
     "execution_count": 205,
     "metadata": {},
     "output_type": "execute_result"
    },
    {
     "name": "stderr",
     "output_type": "stream",
     "text": [
      "  0%|          | 2/2587 [29:39<638:48:21, 889.63s/it]\n",
      "  3%|▎         | 75/2587 [27:58<15:36:50, 22.38s/it]\n",
      "  3%|▎         | 75/2587 [26:31<14:48:21, 21.22s/it]\n",
      "  2%|▏         | 51/2587 [26:22<21:51:13, 31.02s/it]\n"
     ]
    },
    {
     "data": {
      "image/png": "[encoded data removed]",
      "text/plain": [
       "<Figure size 432x288 with 1 Axes>"
      ]
     },
     "metadata": {
      "needs_background": "light"
     },
     "output_type": "display_data"
    }
   ],
   "source": [
    "plt.scatter(token_scores, token_diffs, label='token')\n",
    "plt.scatter(sent_scores, sent_diffs, label='sent')\n",
    "plt.legend()"
   ]
  },
  {
   "cell_type": "code",
   "execution_count": 206,
   "metadata": {},
   "outputs": [
    {
     "data": {
      "text/plain": [
       "<seaborn.axisgrid.FacetGrid at 0x7f9ea27633d0>"
      ]
     },
     "execution_count": 206,
     "metadata": {},
     "output_type": "execute_result"
    },
    {
     "data": {
      "image/png": "[encoded data removed]",
      "text/plain": [
       "<Figure size 360x360 with 1 Axes>"
      ]
     },
     "metadata": {
      "needs_background": "light"
     },
     "output_type": "display_data"
    }
   ],
   "source": [
    "sns.displot(token_diffs)"
   ]
  },
  {
   "cell_type": "code",
   "execution_count": null,
   "metadata": {},
   "outputs": [],
   "source": []
  }
 ],
 "metadata": {
  "kernelspec": {
   "display_name": "Python 3.8.13 ('ConST')",
   "language": "python",
   "name": "python3"
  },
  "language_info": {
   "codemirror_mode": {
    "name": "ipython",
    "version": 3
   },
   "file_extension": ".py",
   "mimetype": "text/x-python",
   "name": "python",
   "nbconvert_exporter": "python",
   "pygments_lexer": "ipython3",
   "version": "3.8.13"
  },
  "orig_nbformat": 4,
  "vscode": {
   "interpreter": {
    "hash": "b19e2bae1ea557e2a235ed68e1ca6fc95eb26397d1b9313344955976d03228b1"
   }
  }
 },
 "nbformat": 4,
 "nbformat_minor": 2
}
