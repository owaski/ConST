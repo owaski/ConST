{
 "cells": [
  {
   "cell_type": "code",
   "execution_count": 13,
   "metadata": {},
   "outputs": [],
   "source": [
    "import os\n",
    "import re\n",
    "import random\n",
    "from argparse import Namespace\n",
    "\n",
    "import torch as th\n",
    "import torch.nn as nn\n",
    "import torch.nn.functional as F\n",
    "from torch.utils.data import Dataset, DataLoader\n",
    "\n",
    "from tqdm.notebook import tqdm\n",
    "import torchaudio\n",
    "import numpy as np\n",
    "\n",
    "import matplotlib\n",
    "import matplotlib.pyplot as plt\n",
    "import pandas as pd\n",
    "import seaborn as sns\n",
    "import scipy\n",
    "\n",
    "import sacrebleu\n",
    "import sentencepiece\n",
    "\n",
    "from fairseq import utils\n",
    "from fairseq.data import Dictionary, data_utils as fairseq_data_utils\n",
    "from fairseq.models.speech_to_text.xstnet import XSTNet\n",
    "from fairseq.data.audio.speech_text_triple_align_dataset import (\n",
    "    SpeechTextTripleAlignDataset\n",
    ")\n",
    "from fairseq.criterions.multitask_crossentropy_with_contrastive_token_with_extra_mt import MultiTaskCrossEntropyWithContrastiveTokenWithExtraMT\n",
    "from fairseq.data.audio.speech_to_text_dataset import get_features_or_waveform, _collate_frames\n",
    "from ConST.prepare_data.data_utils import load_df_from_tsv, save_df_to_tsv\n",
    "from fairseq.checkpoint_utils import load_checkpoint_to_cpu, save_state, torch_persistent_save"
   ]
  },
  {
   "cell_type": "code",
   "execution_count": 2,
   "metadata": {},
   "outputs": [],
   "source": [
    "device = 'cuda:6'"
   ]
  },
  {
   "cell_type": "markdown",
   "metadata": {},
   "source": [
    "# Load Checkpoint"
   ]
  },
  {
   "cell_type": "code",
   "execution_count": 5,
   "metadata": {},
   "outputs": [],
   "source": [
    "args = Namespace()\n",
    "task = Namespace()\n",
    "\n",
    "args.w2v2_model_path = '/mnt/data/siqiouyang/runs/mST/pretrained/wav2vec_small.pt'\n",
    "\n",
    "args.max_audio_positions = 600000\n",
    "args.max_source_positions = 1024\n",
    "args.max_target_positions = 1024\n",
    "args.max_audio_tokens = 1000000\n",
    "args.max_text_tokens = 2000\n",
    "args.max_tokens = 1000000\n",
    "args.max_tokens_valid = 2000000\n",
    "\n",
    "tgt_dict = Dictionary.load('/mnt/data/siqiouyang/datasets/must-c-v1.0/spm_unigram10000_st_de.txt')\n",
    "task.target_dictionary = tgt_dict\n",
    "\n",
    "model = XSTNet.build_model(args, task)"
   ]
  },
  {
   "cell_type": "code",
   "execution_count": 6,
   "metadata": {},
   "outputs": [],
   "source": [
    "tag = 'main_ende_token'"
   ]
  },
  {
   "cell_type": "code",
   "execution_count": 7,
   "metadata": {},
   "outputs": [],
   "source": [
    "ckpt_path = '/mnt/data/siqiouyang/runs/ConST/{}/checkpoint_best.pt'.format(tag)\n",
    "ckpt = load_checkpoint_to_cpu(ckpt_path)"
   ]
  },
  {
   "cell_type": "code",
   "execution_count": 8,
   "metadata": {},
   "outputs": [],
   "source": [
    "model.load_state_dict(ckpt['model'])\n",
    "model = model.to(device)"
   ]
  },
  {
   "cell_type": "markdown",
   "metadata": {},
   "source": [
    "# Compute Gradient"
   ]
  },
  {
   "cell_type": "code",
   "execution_count": 9,
   "metadata": {},
   "outputs": [
    {
     "data": {
      "text/plain": [
       "True"
      ]
     },
     "execution_count": 9,
     "metadata": {},
     "output_type": "execute_result"
    }
   ],
   "source": [
    "spm = sentencepiece.SentencePieceProcessor()\n",
    "spm.Load('/mnt/data/siqiouyang/datasets/must-c-v1.0/spm_unigram10000_st_de.model')"
   ]
  },
  {
   "cell_type": "code",
   "execution_count": 75,
   "metadata": {},
   "outputs": [],
   "source": [
    "df = load_df_from_tsv('/mnt/data/siqiouyang/datasets/must-c-v1.0/tst-COMMON_st_de.tsv')"
   ]
  },
  {
   "cell_type": "code",
   "execution_count": 76,
   "metadata": {},
   "outputs": [],
   "source": [
    "loss_fn = MultiTaskCrossEntropyWithContrastiveTokenWithExtraMT(task, False, 0., 1, )"
   ]
  },
  {
   "cell_type": "code",
   "execution_count": 77,
   "metadata": {},
   "outputs": [],
   "source": [
    "def gather_gradient(model):\n",
    "    all_grad = []\n",
    "    for param in model.encoder.parameters():\n",
    "        if param.requires_grad and param.grad is not None:\n",
    "            all_grad.append(param.grad.flatten())\n",
    "    all_grad = th.cat(all_grad, dim=0)\n",
    "    return all_grad"
   ]
  },
  {
   "cell_type": "code",
   "execution_count": 81,
   "metadata": {},
   "outputs": [],
   "source": [
    "def compute_sim(idx):\n",
    "    align_path = '/mnt/data/siqiouyang/datasets/must-c-v1.0/en-de/data/tst-COMMON/align/{}.pt'.format(df['id'][idx])\n",
    "    if os.path.exists(align_path):\n",
    "        audio_path = os.path.join('/mnt/data/siqiouyang/datasets/must-c-v1.0', df['audio'][idx])\n",
    "        audio = get_features_or_waveform(audio_path, need_waveform=True).to(device)\n",
    "        \n",
    "        tokenized =  \" \".join(spm.EncodeAsPieces(df['src_text'][idx]))\n",
    "        src_text = tgt_dict.encode_line(\n",
    "            tokenized, add_if_not_exist=False, append_eos=True\n",
    "        ).long()\n",
    "        lang_tag = SpeechTextTripleAlignDataset.LANG_TAG_TEMPLATE.format(df['src_lang'][idx])\n",
    "        lang_tag_idx = tgt_dict.index(lang_tag)\n",
    "        src_text = th.cat((th.LongTensor([lang_tag_idx]), src_text), 0).unsqueeze(0).to(device)\n",
    "\n",
    "        n_frame = th.LongTensor([audio.size(1)]).to(device)\n",
    "        src_length = th.LongTensor([src_text.size(1)])\n",
    "\n",
    "        tokenized = \" \".join(spm.EncodeAsPieces(df['tgt_text'][idx]))\n",
    "        tgt_text = tgt_dict.encode_line(\n",
    "            tokenized, add_if_not_exist=False, append_eos=True\n",
    "        ).long()\n",
    "        lang_tag = SpeechTextTripleAlignDataset.LANG_TAG_TEMPLATE.format(df['tgt_lang'][idx])\n",
    "        lang_tag_idx = tgt_dict.index(lang_tag)\n",
    "        tgt_text = th.cat((th.LongTensor([lang_tag_idx]), tgt_text), 0)\n",
    "\n",
    "        target = fairseq_data_utils.collate_tokens(\n",
    "            [tgt_text],\n",
    "            tgt_dict.pad(),\n",
    "            tgt_dict.eos(),\n",
    "            left_pad=False,\n",
    "            move_eos_to_beginning=False,\n",
    "        ).to(device)\n",
    "        prev_output_target_tokens = fairseq_data_utils.collate_tokens(\n",
    "            [tgt_text],\n",
    "            tgt_dict.pad(),\n",
    "            tgt_dict.eos(),\n",
    "            left_pad=False,\n",
    "            move_eos_to_beginning=True,\n",
    "        ).to(device)\n",
    "\n",
    "        sample = {\n",
    "            \"net_input\": {\n",
    "                \"src_tokens\": audio,\n",
    "                \"src_lengths\": n_frame,\n",
    "                \"prev_output_tokens\": prev_output_target_tokens\n",
    "            },\n",
    "            \"target\": target\n",
    "        }\n",
    "\n",
    "        model.zero_grad()\n",
    "        loss, nll_loss, _ = loss_fn.compute_loss_st(model, sample, reduce=True)\n",
    "        nll_loss.backward()\n",
    "\n",
    "        st_grad = gather_gradient(model)\n",
    "\n",
    "        model.zero_grad()\n",
    "\n",
    "        st_encoder_out = model.encoder(audio.to(device), n_frame.to(device))\n",
    "        st_x = st_encoder_out.encoder_out.squeeze(1)\n",
    "        mt_encoder_out = model.encoder(src_text.to(device), src_length.to(device), is_text_input=True)\n",
    "        mt_x = mt_encoder_out.encoder_out.squeeze(1)\n",
    "\n",
    "        seg, itv = th.load(align_path)\n",
    "        seg = [(s[0] + 1, s[1] + 1) for s in seg]\n",
    "        itv = (itv * st_encoder_out.encoder_padding_mask.size(1)).astype(int)\n",
    "        st_f = []\n",
    "        mt_f = []\n",
    "        for (t_l, t_r), (s_l, s_r) in zip(seg, itv):\n",
    "            st_f.append(st_x[s_l : s_r + 1].mean(dim=0))\n",
    "            mt_f.append(mt_x[t_l : t_r + 1].mean(dim=0))\n",
    "        st_f = th.stack(st_f, dim=0)\n",
    "        mt_f = th.stack(mt_f, dim=0)\n",
    "\n",
    "        logits = F.cosine_similarity(\n",
    "            st_f.unsqueeze(1),\n",
    "            mt_f.unsqueeze(0),\n",
    "            dim=-1\n",
    "        ) / 0.05\n",
    "\n",
    "        label = th.arange(st_f.size(0)).to(logits.device)\n",
    "        loss = F.cross_entropy(logits, label, reduction='sum')\n",
    "        loss.backward()\n",
    "\n",
    "        token_cst_grad = gather_gradient(model)\n",
    "        token_cos_sim = (st_grad * token_cst_grad).sum() / st_grad.norm() / token_cst_grad.norm()\n",
    "\n",
    "        # model.zero_grad()\n",
    "\n",
    "        # st_encoder_out = model.encoder(audio.to(device), n_frame.to(device))\n",
    "        # st_x = st_encoder_out.encoder_out\n",
    "        # mt_encoder_out = model.encoder(src_text.to(device), src_length.to(device), is_text_input=True)\n",
    "        # mt_x = mt_encoder_out.encoder_out\n",
    "\n",
    "        # st_encoder_padding_mask = st_encoder_out.encoder_padding_mask\n",
    "        # st_encoder_out = st_x.transpose(0, 1) # T x B x hid -> B x T x hid\n",
    "        # st_encoder_padding_mask = (~st_encoder_padding_mask).float()\n",
    "        # st_seq_hidden = (st_encoder_out * st_encoder_padding_mask.unsqueeze(-1)).sum(dim=1) / st_encoder_padding_mask.sum(dim=1).unsqueeze(-1)\n",
    "\n",
    "        # mt_encoder_padding_mask = mt_encoder_out.encoder_padding_mask\n",
    "        # mt_encoder_out = mt_x.transpose(0, 1) # T x B x hid -> B x T x hid\n",
    "        # mt_encoder_padding_mask = (~mt_encoder_padding_mask).float()\n",
    "        # mt_seq_hidden = (mt_encoder_out * mt_encoder_padding_mask.unsqueeze(-1)).sum(dim=1) / mt_encoder_padding_mask.sum(dim=1).unsqueeze(-1)\n",
    "\n",
    "        # logits = F.cosine_similarity(st_seq_hidden.expand((1, 1, 512)), mt_seq_hidden.expand((1, 1, 512)).transpose(0, 1), dim=-1) / 0.02\n",
    "        # loss = -th.nn.LogSoftmax(0)(logits).diag()\n",
    "        # loss.backward()\n",
    "\n",
    "        # sent_cst_grad = gather_gradient(model)\n",
    "        # sent_cos_sim = (st_grad * sent_cst_grad).sum() / st_grad.norm() / sent_cst_grad.norm()\n",
    "        return token_cos_sim\n",
    "    else:\n",
    "        return None"
   ]
  },
  {
   "cell_type": "code",
   "execution_count": 82,
   "metadata": {},
   "outputs": [
    {
     "data": {
      "application/vnd.jupyter.widget-view+json": {
       "model_id": "d045a9e3965e48be886a176975ab2fb7",
       "version_major": 2,
       "version_minor": 0
      },
      "text/plain": [
       "  0%|          | 0/2587 [00:00<?, ?it/s]"
      ]
     },
     "metadata": {},
     "output_type": "display_data"
    }
   ],
   "source": [
    "token_cos_sims = []\n",
    "for idx in tqdm(range(len(df))):\n",
    "    token_cos_sims.append(compute_sim(idx))"
   ]
  },
  {
   "cell_type": "code",
   "execution_count": 85,
   "metadata": {},
   "outputs": [],
   "source": [
    "token_cos_sims = [s.item() for s in token_cos_sims if s is not None]"
   ]
  },
  {
   "cell_type": "code",
   "execution_count": 86,
   "metadata": {},
   "outputs": [
    {
     "data": {
      "text/plain": [
       "<seaborn.axisgrid.FacetGrid at 0x7ff461d7ca30>"
      ]
     },
     "execution_count": 86,
     "metadata": {},
     "output_type": "execute_result"
    },
    {
     "data": {
      "image/png": "[encoded data removed]",
      "text/plain": [
       "<Figure size 360x360 with 1 Axes>"
      ]
     },
     "metadata": {
      "needs_background": "light"
     },
     "output_type": "display_data"
    }
   ],
   "source": [
    "sns.displot(token_cos_sims)"
   ]
  },
  {
   "cell_type": "code",
   "execution_count": null,
   "metadata": {},
   "outputs": [],
   "source": []
  }
 ],
 "metadata": {
  "kernelspec": {
   "display_name": "Python 3.8.13 ('ConST')",
   "language": "python",
   "name": "python3"
  },
  "language_info": {
   "codemirror_mode": {
    "name": "ipython",
    "version": 3
   },
   "file_extension": ".py",
   "mimetype": "text/x-python",
   "name": "python",
   "nbconvert_exporter": "python",
   "pygments_lexer": "ipython3",
   "version": "3.8.13"
  },
  "orig_nbformat": 4,
  "vscode": {
   "interpreter": {
    "hash": "b19e2bae1ea557e2a235ed68e1ca6fc95eb26397d1b9313344955976d03228b1"
   }
  }
 },
 "nbformat": 4,
 "nbformat_minor": 2
}
