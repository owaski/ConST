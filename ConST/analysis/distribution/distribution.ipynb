{
 "cells": [
  {
   "cell_type": "code",
   "execution_count": 28,
   "metadata": {},
   "outputs": [],
   "source": [
    "import os\n",
    "import re\n",
    "import random\n",
    "from argparse import Namespace\n",
    "\n",
    "import torch as th\n",
    "import torch.nn as nn\n",
    "import torch.nn.functional as F\n",
    "from torch.utils.data import Dataset, DataLoader\n",
    "\n",
    "from tqdm.notebook import tqdm\n",
    "import torchaudio\n",
    "import numpy as np\n",
    "\n",
    "import matplotlib\n",
    "import matplotlib.pyplot as plt\n",
    "import pandas as pd\n",
    "import seaborn as sns\n",
    "import scipy\n",
    "\n",
    "import sacrebleu\n",
    "import sentencepiece\n",
    "\n",
    "from fairseq import utils\n",
    "from fairseq.data import PhonemeDictionary, Dictionary, data_utils as fairseq_data_utils\n",
    "from fairseq.models.speech_to_text.xstnet import XSTNet\n",
    "from fairseq.data.audio.speech_text_triple_align_dataset import (\n",
    "    SpeechTextTripleAlignDataset\n",
    ")\n",
    "from fairseq.criterions.multitask_crossentropy_with_contrastive_token_with_extra_mt import MultiTaskCrossEntropyWithContrastiveTokenWithExtraMT\n",
    "from fairseq.data.audio.speech_to_text_dataset import get_features_or_waveform, _collate_frames\n",
    "from ConST.prepare_data.data_utils import load_df_from_tsv, save_df_to_tsv\n",
    "from fairseq.checkpoint_utils import load_checkpoint_to_cpu, save_state, torch_persistent_save"
   ]
  },
  {
   "cell_type": "code",
   "execution_count": 29,
   "metadata": {},
   "outputs": [],
   "source": [
    "device = 'cuda:7'"
   ]
  },
  {
   "cell_type": "markdown",
   "metadata": {},
   "source": [
    "# Load Checkpoint"
   ]
  },
  {
   "cell_type": "code",
   "execution_count": 30,
   "metadata": {},
   "outputs": [],
   "source": [
    "args = Namespace()\n",
    "task = Namespace()\n",
    "\n",
    "args.w2v2_model_path = '/mnt/data/siqiouyang/runs/mST/pretrained/wav2vec_small.pt'\n",
    "\n",
    "args.max_audio_positions = 600000\n",
    "args.max_source_positions = 1024\n",
    "args.max_target_positions = 1024\n",
    "args.max_audio_tokens = 1000000\n",
    "args.max_text_tokens = 2000\n",
    "args.max_tokens = 1000000\n",
    "args.max_tokens_valid = 2000000\n",
    "\n",
    "src_dict = PhonemeDictionary.load('/mnt/data/siqiouyang/datasets/must-c-v1.0/phonemes.txt')\n",
    "tgt_dict = Dictionary.load('/mnt/data/siqiouyang/datasets/must-c-v1.0/spm_unigram10000_st_de.txt')\n",
    "task.source_dictionary = src_dict\n",
    "task.target_dictionary = tgt_dict\n",
    "\n",
    "model = XSTNet.build_model(args, task)\n",
    "model2 = XSTNet.build_model(args, task)"
   ]
  },
  {
   "cell_type": "code",
   "execution_count": 31,
   "metadata": {},
   "outputs": [],
   "source": [
    "tag = 'ablation_data_efficiency_1h_baseline'\n",
    "tag2 = 'ablation_data_efficiency_10h_baseline'"
   ]
  },
  {
   "cell_type": "code",
   "execution_count": 32,
   "metadata": {},
   "outputs": [],
   "source": [
    "ckpt_path = '/mnt/data/siqiouyang/runs/ConST/{}/checkpoint_best.pt'.format(tag)\n",
    "ckpt = load_checkpoint_to_cpu(ckpt_path)\n",
    "\n",
    "ckpt_path2 = '/mnt/data/siqiouyang/runs/ConST/{}/checkpoint_best.pt'.format(tag2)\n",
    "ckpt2 = load_checkpoint_to_cpu(ckpt_path2)"
   ]
  },
  {
   "cell_type": "code",
   "execution_count": 33,
   "metadata": {},
   "outputs": [],
   "source": [
    "model.load_state_dict(ckpt['model'], strict=False)\n",
    "model = model.to(device)\n",
    "\n",
    "model2.load_state_dict(ckpt2['model'], strict=False)\n",
    "model2 = model2.to(device)"
   ]
  },
  {
   "cell_type": "code",
   "execution_count": 48,
   "metadata": {},
   "outputs": [
    {
     "name": "stdout",
     "output_type": "stream",
     "text": [
      "150860800\n"
     ]
    }
   ],
   "source": [
    "n_element = 0\n",
    "for t in model.parameters():\n",
    "    n_element += t.numel()\n",
    "print(n_element)"
   ]
  },
  {
   "cell_type": "markdown",
   "metadata": {},
   "source": [
    "# Compute Feature"
   ]
  },
  {
   "cell_type": "code",
   "execution_count": 34,
   "metadata": {},
   "outputs": [
    {
     "data": {
      "text/plain": [
       "True"
      ]
     },
     "execution_count": 34,
     "metadata": {},
     "output_type": "execute_result"
    }
   ],
   "source": [
    "spm = sentencepiece.SentencePieceProcessor()\n",
    "spm.Load('/mnt/data/siqiouyang/datasets/must-c-v1.0/spm_unigram10000_st_de.model')"
   ]
  },
  {
   "cell_type": "code",
   "execution_count": 35,
   "metadata": {},
   "outputs": [],
   "source": [
    "df = load_df_from_tsv('/mnt/data/siqiouyang/datasets/must-c-v1.0/tst-COMMON_st_de.tsv')"
   ]
  },
  {
   "cell_type": "code",
   "execution_count": 36,
   "metadata": {},
   "outputs": [],
   "source": [
    "def compute_feature(model, idx):\n",
    "    align_path = '/mnt/data/siqiouyang/datasets/must-c-v1.0/en-de/data/tst-COMMON/align/{}.pt'.format(df['id'][idx])\n",
    "    if os.path.exists(align_path):\n",
    "        audio_path = os.path.join('/mnt/data/siqiouyang/datasets/must-c-v1.0', df['audio'][idx])\n",
    "        audio = get_features_or_waveform(audio_path, need_waveform=True).to(device)\n",
    "        \n",
    "        src_tokens = spm.EncodeAsPieces(df['src_text'][idx])\n",
    "        tokenized =  \" \".join(spm.EncodeAsPieces(df['src_text'][idx]))\n",
    "        src_text = tgt_dict.encode_line(\n",
    "            tokenized, add_if_not_exist=False, append_eos=True\n",
    "        ).long()\n",
    "        lang_tag = SpeechTextTripleAlignDataset.LANG_TAG_TEMPLATE.format(df['src_lang'][idx])\n",
    "        lang_tag_idx = tgt_dict.index(lang_tag)\n",
    "        src_text = th.cat((th.LongTensor([lang_tag_idx]), src_text), 0).unsqueeze(0).to(device)\n",
    "\n",
    "        n_frame = th.LongTensor([audio.size(1)]).to(device)\n",
    "        src_length = th.LongTensor([src_text.size(1)])\n",
    "\n",
    "        tokenized = \" \".join(spm.EncodeAsPieces(df['tgt_text'][idx]))\n",
    "        tgt_text = tgt_dict.encode_line(\n",
    "            tokenized, add_if_not_exist=False, append_eos=True\n",
    "        ).long()\n",
    "        lang_tag = SpeechTextTripleAlignDataset.LANG_TAG_TEMPLATE.format(df['tgt_lang'][idx])\n",
    "        lang_tag_idx = tgt_dict.index(lang_tag)\n",
    "        tgt_text = th.cat((th.LongTensor([lang_tag_idx]), tgt_text), 0)\n",
    "\n",
    "        target = fairseq_data_utils.collate_tokens(\n",
    "            [tgt_text],\n",
    "            tgt_dict.pad(),\n",
    "            tgt_dict.eos(),\n",
    "            left_pad=False,\n",
    "            move_eos_to_beginning=False,\n",
    "        ).to(device)\n",
    "        prev_output_target_tokens = fairseq_data_utils.collate_tokens(\n",
    "            [tgt_text],\n",
    "            tgt_dict.pad(),\n",
    "            tgt_dict.eos(),\n",
    "            left_pad=False,\n",
    "            move_eos_to_beginning=True,\n",
    "        ).to(device)\n",
    "\n",
    "        with th.no_grad():\n",
    "            st_encoder_out = model.encoder(audio.to(device), n_frame.to(device))\n",
    "            st_x = st_encoder_out.encoder_embedding.squeeze(1)\n",
    "            mt_encoder_out = model.encoder(src_text.to(device), src_length.to(device), is_text_input=True)\n",
    "            mt_x = mt_encoder_out.encoder_embedding.squeeze(1)\n",
    "\n",
    "        words = []\n",
    "\n",
    "        seg, itv = th.load(align_path)\n",
    "        seg = [(s[0] + 1, s[1] + 1) for s in seg]\n",
    "        itv = (itv * st_encoder_out.encoder_padding_mask.size(1)).astype(int)\n",
    "        st_f = []\n",
    "        mt_f = []\n",
    "        starts = []\n",
    "        for (t_l, t_r), (s_l, s_r) in zip(seg, itv):\n",
    "            st_f.append(st_x[s_l : s_r + 1].mean(dim=0))\n",
    "            mt_f.append(mt_x[t_l : t_r + 1].mean(dim=0))\n",
    "\n",
    "            words.append(''.join(src_tokens[t_l - 1 : t_r]).replace('▁', ''))\n",
    "            starts.append((s_l + s_r) // 2)\n",
    "            \n",
    "        st_f = th.stack(st_f, dim=0)\n",
    "        mt_f = th.stack(mt_f, dim=0)\n",
    "        \n",
    "        return st_x, mt_x, st_f, mt_f, src_tokens, audio, words, starts\n",
    "    else:\n",
    "        return None"
   ]
  },
  {
   "cell_type": "code",
   "execution_count": 37,
   "metadata": {},
   "outputs": [
    {
     "data": {
      "application/vnd.jupyter.widget-view+json": {
       "model_id": "f4900cd2e0d94880ab1844143997a5cd",
       "version_major": 2,
       "version_minor": 0
      },
      "text/plain": [
       "  0%|          | 0/2587 [00:00<?, ?it/s]"
      ]
     },
     "metadata": {},
     "output_type": "display_data"
    }
   ],
   "source": [
    "st_xs = []\n",
    "mt_xs = []\n",
    "st_fs = []\n",
    "mt_fs = []\n",
    "for idx in tqdm(range(len(df))):\n",
    "    result = compute_feature(model, idx)\n",
    "    if result is not None:\n",
    "        st_x, mt_x, st_f, mt_f, _, _, _, _ = result\n",
    "        st_xs.append(st_x.mean(dim=0))\n",
    "        mt_xs.append(mt_x.mean(dim=0))\n",
    "        st_fs.append(st_f)\n",
    "        mt_fs.append(mt_f)\n",
    "st_xs = th.stack(st_xs, dim=0)\n",
    "mt_xs = th.stack(mt_xs, dim=0)\n",
    "st_fs = th.cat(st_fs, dim=0)\n",
    "mt_fs = th.cat(mt_fs, dim=0)"
   ]
  },
  {
   "cell_type": "code",
   "execution_count": 39,
   "metadata": {},
   "outputs": [
    {
     "data": {
      "application/vnd.jupyter.widget-view+json": {
       "model_id": "bb58e25670ac42b597bfa105c4ec712d",
       "version_major": 2,
       "version_minor": 0
      },
      "text/plain": [
       "  0%|          | 0/2587 [00:00<?, ?it/s]"
      ]
     },
     "metadata": {},
     "output_type": "display_data"
    }
   ],
   "source": [
    "st_xs_2 = []\n",
    "mt_xs_2 = []\n",
    "st_fs_2 = []\n",
    "mt_fs_2 = []\n",
    "for idx in tqdm(range(len(df))):\n",
    "    result = compute_feature(model2, idx)\n",
    "    if result is not None:\n",
    "        st_x, mt_x, st_f, mt_f, _, _, _, _ = result\n",
    "        st_xs_2.append(st_x.mean(dim=0))\n",
    "        mt_xs_2.append(mt_x.mean(dim=0))\n",
    "        st_fs_2.append(st_f)\n",
    "        mt_fs_2.append(mt_f)\n",
    "st_xs_2 = th.stack(st_xs_2, dim=0)\n",
    "mt_xs_2 = th.stack(mt_xs_2, dim=0)\n",
    "st_fs_2 = th.cat(st_fs_2, dim=0)\n",
    "mt_fs_2 = th.cat(mt_fs_2, dim=0)"
   ]
  },
  {
   "cell_type": "code",
   "execution_count": 74,
   "metadata": {},
   "outputs": [],
   "source": []
  },
  {
   "cell_type": "markdown",
   "metadata": {},
   "source": [
    "# Average Cosine Similarity"
   ]
  },
  {
   "cell_type": "code",
   "execution_count": 40,
   "metadata": {},
   "outputs": [
    {
     "data": {
      "text/plain": [
       "(tensor(-0.0074, device='cuda:7'), tensor(0.2636, device='cuda:7'))"
      ]
     },
     "execution_count": 40,
     "metadata": {},
     "output_type": "execute_result"
    }
   ],
   "source": [
    "sim = F.cosine_similarity(st_fs, mt_fs, dim=-1).mean()\n",
    "sim2 = F.cosine_similarity(st_fs_2, mt_fs_2, dim=-1).mean()\n",
    "sim, sim2"
   ]
  },
  {
   "cell_type": "code",
   "execution_count": 33,
   "metadata": {},
   "outputs": [
    {
     "data": {
      "text/plain": [
       "(tensor(0.2748, device='cuda:4'), tensor(0.3408, device='cuda:4'))"
      ]
     },
     "execution_count": 33,
     "metadata": {},
     "output_type": "execute_result"
    }
   ],
   "source": [
    "sim = F.cosine_similarity(st_xs, mt_xs, dim=-1).mean()\n",
    "sim2 = F.cosine_similarity(st_xs_2, mt_xs_2, dim=-1).mean()\n",
    "sim, sim2"
   ]
  },
  {
   "cell_type": "code",
   "execution_count": 44,
   "metadata": {},
   "outputs": [
    {
     "data": {
      "text/plain": [
       "tensor(0.7510, device='cuda:4')"
      ]
     },
     "execution_count": 44,
     "metadata": {},
     "output_type": "execute_result"
    }
   ],
   "source": [
    "sims = F.cosine_similarity(\n",
    "    st_xs.unsqueeze(1),\n",
    "    mt_xs.unsqueeze(0),\n",
    "    dim=-1\n",
    ")\n",
    "(sims.argmax(dim=-1) == th.arange(sims.size(0)).to(device)).float().mean()"
   ]
  },
  {
   "cell_type": "code",
   "execution_count": 43,
   "metadata": {},
   "outputs": [
    {
     "data": {
      "text/plain": [
       "tensor(0.7510, device='cuda:4')"
      ]
     },
     "execution_count": 43,
     "metadata": {},
     "output_type": "execute_result"
    }
   ],
   "source": [
    "sims2 = F.cosine_similarity(\n",
    "    st_xs_2.unsqueeze(1),\n",
    "    mt_xs_2.unsqueeze(0),\n",
    "    dim=-1\n",
    ")\n",
    "(sims.argmax(dim=-1) == th.arange(sims.size(0)).to(device)).float().mean()"
   ]
  },
  {
   "cell_type": "markdown",
   "metadata": {},
   "source": [
    "# Compute Alignment and Uniformity"
   ]
  },
  {
   "cell_type": "code",
   "execution_count": null,
   "metadata": {},
   "outputs": [],
   "source": []
  },
  {
   "cell_type": "code",
   "execution_count": 75,
   "metadata": {},
   "outputs": [],
   "source": [
    "norm_st_fs = st_fs / st_fs.norm(dim=-1).unsqueeze(-1)\n",
    "norm_mt_fs = mt_fs / mt_fs.norm(dim=-1).unsqueeze(-1)"
   ]
  },
  {
   "cell_type": "markdown",
   "metadata": {},
   "source": [
    "## Alignment"
   ]
  },
  {
   "cell_type": "code",
   "execution_count": 61,
   "metadata": {},
   "outputs": [],
   "source": [
    "alpha = 2"
   ]
  },
  {
   "cell_type": "code",
   "execution_count": 62,
   "metadata": {},
   "outputs": [
    {
     "data": {
      "text/plain": [
       "tensor(1.1140, device='cuda:0')"
      ]
     },
     "execution_count": 62,
     "metadata": {},
     "output_type": "execute_result"
    }
   ],
   "source": [
    "alignment = ((norm_st_fs - norm_mt_fs).norm(dim=-1) ** alpha).mean()\n",
    "alignment"
   ]
  },
  {
   "cell_type": "code",
   "execution_count": 63,
   "metadata": {},
   "outputs": [],
   "source": [
    "# token: 1.0117\n",
    "# ctc:   1.8957\n",
    "# sent:  1.0291"
   ]
  },
  {
   "cell_type": "code",
   "execution_count": 64,
   "metadata": {},
   "outputs": [],
   "source": [
    "# token_ft_1h: 0.9807\n",
    "# ctc_ft_1h:   1.8536\n",
    "# sent_ft_1h:  1.1138"
   ]
  },
  {
   "cell_type": "code",
   "execution_count": 65,
   "metadata": {},
   "outputs": [],
   "source": [
    "# main_token: 1.0476\n",
    "# main_sent:  1.2542"
   ]
  },
  {
   "cell_type": "code",
   "execution_count": null,
   "metadata": {},
   "outputs": [],
   "source": []
  },
  {
   "cell_type": "code",
   "execution_count": 76,
   "metadata": {},
   "outputs": [
    {
     "data": {
      "text/plain": [
       "tensor(0.0741, device='cuda:0')"
      ]
     },
     "execution_count": 76,
     "metadata": {},
     "output_type": "execute_result"
    }
   ],
   "source": [
    "F.cosine_similarity(\n",
    "    norm_st_fs, norm_mt_fs, dim=-1\n",
    ").mean()"
   ]
  },
  {
   "cell_type": "code",
   "execution_count": 77,
   "metadata": {},
   "outputs": [],
   "source": [
    "# token_ft_1h: 0.5084\n",
    "# sent_ft_1h:  0.4430\n",
    "# ctc_ft_1h:   0.0741"
   ]
  },
  {
   "cell_type": "markdown",
   "metadata": {},
   "source": [
    "## Uniformity"
   ]
  },
  {
   "cell_type": "code",
   "execution_count": 34,
   "metadata": {},
   "outputs": [],
   "source": [
    "t = 1"
   ]
  },
  {
   "cell_type": "code",
   "execution_count": null,
   "metadata": {},
   "outputs": [],
   "source": []
  },
  {
   "cell_type": "code",
   "execution_count": 35,
   "metadata": {},
   "outputs": [
    {
     "data": {
      "application/vnd.jupyter.widget-view+json": {
       "model_id": "23b64214a38e431791671a93765e4f4a",
       "version_major": 2,
       "version_minor": 0
      },
      "text/plain": [
       "  0%|          | 0/25326 [00:00<?, ?it/s]"
      ]
     },
     "metadata": {},
     "output_type": "display_data"
    },
    {
     "data": {
      "text/plain": [
       "tensor(-1.8912, device='cuda:0')"
      ]
     },
     "execution_count": 35,
     "metadata": {},
     "output_type": "execute_result"
    }
   ],
   "source": [
    "sum = 0\n",
    "for st_f in tqdm(norm_st_fs):\n",
    "    sum += th.exp(-t * ((st_f - norm_st_fs).norm(dim=-1) ** 2)).sum()\n",
    "sum /= st_fs.size(0) * st_fs.size(0)\n",
    "uniformity = th.log(sum)\n",
    "uniformity"
   ]
  },
  {
   "cell_type": "code",
   "execution_count": null,
   "metadata": {},
   "outputs": [],
   "source": []
  },
  {
   "cell_type": "code",
   "execution_count": 36,
   "metadata": {},
   "outputs": [],
   "source": [
    "# token: -1.9546\n",
    "# ctc:   -1.3523\n",
    "# sent:  -1.9599"
   ]
  },
  {
   "cell_type": "code",
   "execution_count": 37,
   "metadata": {},
   "outputs": [],
   "source": [
    "# token_ft_1h: -1.9266\n",
    "# ctc_ft_1h:   -1.6424\n",
    "# sent_ft_1h:  -1.8112"
   ]
  },
  {
   "cell_type": "code",
   "execution_count": 38,
   "metadata": {},
   "outputs": [],
   "source": [
    "# main_token: -1.9434\n",
    "# main_sent:  -1.8912"
   ]
  },
  {
   "cell_type": "markdown",
   "metadata": {},
   "source": [
    "# Test CTC"
   ]
  },
  {
   "cell_type": "code",
   "execution_count": 22,
   "metadata": {},
   "outputs": [
    {
     "data": {
      "text/plain": [
       "['The', 'first', 'is', 'that', 'we', 'will', 'not', 'evolve']"
      ]
     },
     "execution_count": 22,
     "metadata": {},
     "output_type": "execute_result"
    }
   ],
   "source": [
    "words"
   ]
  },
  {
   "cell_type": "code",
   "execution_count": 27,
   "metadata": {},
   "outputs": [
    {
     "data": {
      "image/png": "[encoded data removed]",
      "text/plain": [
       "<Figure size 1500x1000 with 2 Axes>"
      ]
     },
     "metadata": {},
     "output_type": "display_data"
    },
    {
     "data": {
      "image/png": "[encoded data removed]",
      "text/plain": [
       "<Figure size 1500x1000 with 2 Axes>"
      ]
     },
     "metadata": {},
     "output_type": "display_data"
    }
   ],
   "source": [
    "df_idx = 446\n",
    "\n",
    "sns.set(font_scale=2.3)\n",
    "\n",
    "st_x, mt_x, st_f, mt_f, src_tokens, audio, words, starts = compute_feature(model, df_idx)\n",
    "sim_matrix = F.cosine_similarity(\n",
    "    mt_f.unsqueeze(1),\n",
    "    st_x.unsqueeze(0),\n",
    "    dim=-1\n",
    ")\n",
    "plt.figure(dpi=100, figsize=(15, 10))\n",
    "sns.heatmap(sim_matrix.detach().cpu(), yticklabels=words, vmin=0, vmax=1, cmap='rocket_r')\n",
    "plt.xticks(ticks=starts, labels=words, rotation=-45)\n",
    "plt.savefig('/home/siqiouyang/work/projects/ConST/ConST/analysis/ctc/good_alignment.pdf')\n",
    "\n",
    "st_x, mt_x, st_f, mt_f, src_tokens, audio, words, starts = compute_feature(model2, df_idx)\n",
    "sim_matrix = F.cosine_similarity(\n",
    "    mt_f.unsqueeze(1),\n",
    "    st_x.unsqueeze(0),\n",
    "    dim=-1\n",
    ")\n",
    "plt.figure(dpi=100, figsize=(15, 10))\n",
    "sns.heatmap(sim_matrix.detach().cpu(), yticklabels=words, vmin=0, vmax=1, cmap='rocket_r')\n",
    "plt.xticks(ticks=starts, labels=words, rotation=-45)\n",
    "plt.savefig('/home/siqiouyang/work/projects/ConST/ConST/analysis/ctc/bad_alignment.pdf')\n",
    "\n",
    "torchaudio.save('sample.wav', audio.cpu(), 16000)"
   ]
  },
  {
   "cell_type": "code",
   "execution_count": 38,
   "metadata": {},
   "outputs": [],
   "source": []
  },
  {
   "cell_type": "code",
   "execution_count": 19,
   "metadata": {},
   "outputs": [
    {
     "ename": "TypeError",
     "evalue": "cannot unpack non-iterable NoneType object",
     "output_type": "error",
     "traceback": [
      "\u001b[0;31m---------------------------------------------------------------------------\u001b[0m",
      "\u001b[0;31mTypeError\u001b[0m                                 Traceback (most recent call last)",
      "\u001b[1;32m/home/siqiouyang/work/projects/ConST/ConST/analysis/distribution/distribution.ipynb Cell 43\u001b[0m in \u001b[0;36m<cell line: 3>\u001b[0;34m()\u001b[0m\n\u001b[1;32m      <a href='vscode-notebook-cell://ssh-remote%2Blei1/home/siqiouyang/work/projects/ConST/ConST/analysis/distribution/distribution.ipynb#X60sdnNjb2RlLXJlbW90ZQ%3D%3D?line=0'>1</a>\u001b[0m df_idx \u001b[39m=\u001b[39m \u001b[39m7\u001b[39m\n\u001b[0;32m----> <a href='vscode-notebook-cell://ssh-remote%2Blei1/home/siqiouyang/work/projects/ConST/ConST/analysis/distribution/distribution.ipynb#X60sdnNjb2RlLXJlbW90ZQ%3D%3D?line=2'>3</a>\u001b[0m st_x, mt_x, st_f, mt_f, src_tokens, audio, words \u001b[39m=\u001b[39m compute_feature(model, df_idx)\n\u001b[1;32m      <a href='vscode-notebook-cell://ssh-remote%2Blei1/home/siqiouyang/work/projects/ConST/ConST/analysis/distribution/distribution.ipynb#X60sdnNjb2RlLXJlbW90ZQ%3D%3D?line=3'>4</a>\u001b[0m sim_matrix \u001b[39m=\u001b[39m F\u001b[39m.\u001b[39mcosine_similarity(\n\u001b[1;32m      <a href='vscode-notebook-cell://ssh-remote%2Blei1/home/siqiouyang/work/projects/ConST/ConST/analysis/distribution/distribution.ipynb#X60sdnNjb2RlLXJlbW90ZQ%3D%3D?line=4'>5</a>\u001b[0m     mt_f\u001b[39m.\u001b[39munsqueeze(\u001b[39m1\u001b[39m),\n\u001b[1;32m      <a href='vscode-notebook-cell://ssh-remote%2Blei1/home/siqiouyang/work/projects/ConST/ConST/analysis/distribution/distribution.ipynb#X60sdnNjb2RlLXJlbW90ZQ%3D%3D?line=5'>6</a>\u001b[0m     st_f\u001b[39m.\u001b[39munsqueeze(\u001b[39m0\u001b[39m),\n\u001b[1;32m      <a href='vscode-notebook-cell://ssh-remote%2Blei1/home/siqiouyang/work/projects/ConST/ConST/analysis/distribution/distribution.ipynb#X60sdnNjb2RlLXJlbW90ZQ%3D%3D?line=6'>7</a>\u001b[0m     dim\u001b[39m=\u001b[39m\u001b[39m-\u001b[39m\u001b[39m1\u001b[39m\n\u001b[1;32m      <a href='vscode-notebook-cell://ssh-remote%2Blei1/home/siqiouyang/work/projects/ConST/ConST/analysis/distribution/distribution.ipynb#X60sdnNjb2RlLXJlbW90ZQ%3D%3D?line=7'>8</a>\u001b[0m )\n\u001b[1;32m      <a href='vscode-notebook-cell://ssh-remote%2Blei1/home/siqiouyang/work/projects/ConST/ConST/analysis/distribution/distribution.ipynb#X60sdnNjb2RlLXJlbW90ZQ%3D%3D?line=8'>9</a>\u001b[0m plt\u001b[39m.\u001b[39mfigure(dpi\u001b[39m=\u001b[39m\u001b[39m100\u001b[39m, figsize\u001b[39m=\u001b[39m(\u001b[39m15\u001b[39m, \u001b[39m10\u001b[39m))\n",
      "\u001b[0;31mTypeError\u001b[0m: cannot unpack non-iterable NoneType object"
     ]
    }
   ],
   "source": [
    "df_idx = 7\n",
    "\n",
    "st_x, mt_x, st_f, mt_f, src_tokens, audio, words = compute_feature(model, df_idx)\n",
    "sim_matrix = F.cosine_similarity(\n",
    "    mt_f.unsqueeze(1),\n",
    "    st_f.unsqueeze(0),\n",
    "    dim=-1\n",
    ")\n",
    "plt.figure(dpi=100, figsize=(15, 10))\n",
    "sns.heatmap(sim_matrix.detach().cpu(), yticklabels=words, vmin=0, vmax=1)\n",
    "\n",
    "st_x, mt_x, st_f, mt_f, src_tokens, audio, words = compute_feature(model2, df_idx)\n",
    "sim_matrix = F.cosine_similarity(\n",
    "    mt_f.unsqueeze(1),\n",
    "    st_f.unsqueeze(0),\n",
    "    dim=-1\n",
    ")\n",
    "plt.figure(dpi=100, figsize=(15, 10))\n",
    "sns.heatmap(sim_matrix.detach().cpu(), yticklabels=words, vmin=0, vmax=1)\n",
    "\n",
    "torchaudio.save('sample.wav', audio.cpu(), 16000)"
   ]
  },
  {
   "cell_type": "code",
   "execution_count": null,
   "metadata": {},
   "outputs": [],
   "source": []
  }
 ],
 "metadata": {
  "kernelspec": {
   "display_name": "Python 3.8.13 ('ConST')",
   "language": "python",
   "name": "python3"
  },
  "language_info": {
   "codemirror_mode": {
    "name": "ipython",
    "version": 3
   },
   "file_extension": ".py",
   "mimetype": "text/x-python",
   "name": "python",
   "nbconvert_exporter": "python",
   "pygments_lexer": "ipython3",
   "version": "3.8.13"
  },
  "orig_nbformat": 4,
  "vscode": {
   "interpreter": {
    "hash": "b19e2bae1ea557e2a235ed68e1ca6fc95eb26397d1b9313344955976d03228b1"
   }
  }
 },
 "nbformat": 4,
 "nbformat_minor": 2
}
